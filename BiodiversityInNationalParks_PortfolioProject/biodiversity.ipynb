{
  "nbformat": 4,
  "nbformat_minor": 0,
  "metadata": {
    "colab": {
      "name": "biodiversity.ipynb",
      "provenance": [],
      "collapsed_sections": [
        "EN-AHdOrkNhW",
        "GlVwKFw4kckb",
        "-SbtLbDrm1tQ",
        "fwLljtDDnHI-",
        "BxK2-Cq-lbst"
      ],
      "toc_visible": true,
      "authorship_tag": "ABX9TyN1Ate6atxlZwmzxawHk/uq",
      "include_colab_link": true
    },
    "kernelspec": {
      "display_name": "Python 3",
      "name": "python3"
    }
  },
  "cells": [
    {
      "cell_type": "markdown",
      "metadata": {
        "id": "view-in-github",
        "colab_type": "text"
      },
      "source": [
        "<a href=\"https://colab.research.google.com/github/erikrowens/Codecademy/blob/main/BiodiversityInNationalParks_PortfolioProject/biodiversity.ipynb\" target=\"_parent\"><img src=\"https://colab.research.google.com/assets/colab-badge.svg\" alt=\"Open In Colab\"/></a>"
      ]
    },
    {
      "cell_type": "markdown",
      "metadata": {
        "id": "EN-AHdOrkNhW"
      },
      "source": [
        "# Biodiversity in National Parks Portfolio Project\r\n",
        "For this project, you will interpret data from the National Parks Service about endangered species in different parks.\r\n",
        "\r\n",
        "You will perform some data analysis on the conservation statuses of these species and investigate if there are any patterns or themes to the types of species that become endangered. During this project, you will analyze, clean up, and plot data as well as pose questions and seek to answer them in a meaningful way."
      ]
    },
    {
      "cell_type": "markdown",
      "metadata": {
        "id": "GlVwKFw4kckb"
      },
      "source": [
        "# Project Scope\r\n",
        "\r\n",
        "\r\n",
        "*   Goals\r\n",
        "  * What is the distribution of conservation_status for animals?\r\n",
        "  * Are certain types of species more likely to be endangered?\r\n",
        "  * Are the differences between species and their conservation status significant?\r\n",
        "  * Which species were spotted the most at each park?\r\n",
        "*   Data\r\n",
        "  * We will use the *observations.csv* and *species_info.csv* files supplied from Codecademy.\r\n",
        "*   Analysis\r\n",
        "  * We will use tools suchs as numpy, pandas, matplotlib, and seaborne to explore, analyse, and visualise the data.\r\n",
        "  * Once completed we will be able draw our conclusions based on our goals for the project.\r\n",
        "\r\n",
        "\r\n",
        "\r\n"
      ]
    },
    {
      "cell_type": "markdown",
      "metadata": {
        "id": "SWGof9S4Eg5E"
      },
      "source": [
        "# Initial Code\r\n",
        "Library imports and method defintions"
      ]
    },
    {
      "cell_type": "code",
      "metadata": {
        "colab": {
          "base_uri": "https://localhost:8080/",
          "height": 35
        },
        "id": "nmcdVYzPjvQu",
        "cellView": "form",
        "outputId": "0a66f4eb-a0f2-4547-8687-7dea603f4223"
      },
      "source": [
        "#@title Code: Library Import\n",
        "# Import required libraries\n",
        "import numpy as np\n",
        "import pandas as pd\n",
        "import matplotlib.pyplot as plt\n",
        "import seaborn as sns\n",
        "import matplotlib.ticker as tick\n",
        "from matplotlib.ticker import FuncFormatter\n",
        "import locale\n",
        "locale.setlocale(locale.LC_ALL, '')"
      ],
      "execution_count": null,
      "outputs": [
        {
          "output_type": "execute_result",
          "data": {
            "application/vnd.google.colaboratory.intrinsic+json": {
              "type": "string"
            },
            "text/plain": [
              "'en_US.UTF-8'"
            ]
          },
          "metadata": {
            "tags": []
          },
          "execution_count": 73
        }
      ]
    },
    {
      "cell_type": "code",
      "metadata": {
        "id": "NGM3_65Xre_h"
      },
      "source": [
        "#@title Code: Method Defitions\n",
        "#I create a dictionary containing the dataframes so that I can loop on it\n",
        "#for later user (like .head())\n",
        "#Credit: https://stackoverflow.com/questions/44835358/pandas-list-of-dataframe-names\n",
        "def getDataFramesAsDict():\n",
        "\n",
        "  d = globals()\n",
        "  #Original code\n",
        "  dfDict = {}\n",
        "  dfDict = {k: v for k, v in d.items() if isinstance(v, pd.DataFrame)}\n",
        "  return dfDict\n",
        "\n",
        "def reformat_large_tick_values(tick_val, pos):\n",
        "\n",
        "    \"\"\"\n",
        "    Credit: Dan Friedman, https://dfrieds.com/data-visualizations/how-format-large-tick-values.html\n",
        "    Turns large tick values (in the billions, millions and thousands) such as 4500 into 4.5K and also appropriately turns 4000 into 4K (no zero after the decimal).\n",
        "\n",
        "    I simlpy adapted the code to handle negactive values by copy/paste of \n",
        "    the block of code that handles positive values.\n",
        "    \"\"\"\n",
        "    if tick_val < 0:\n",
        "      if tick_val <= -1000000000000:\n",
        "          val = round(tick_val/1000000000000, 1)\n",
        "          new_tick_format = '-{:}T'.format(val)\n",
        "      elif tick_val <= -1000000000:\n",
        "          val = round(tick_val/1000000000, 1)\n",
        "          new_tick_format = '-{:}B'.format(val)\n",
        "      elif tick_val <= -1000000:\n",
        "          val = round(tick_val/1000000, 1)\n",
        "          new_tick_format = '-{:}M'.format(val)\n",
        "      elif tick_val <= 1000:\n",
        "          val = round(tick_val/1000, 1)\n",
        "          new_tick_format = '-{:}K'.format(val)\n",
        "      #elif tick_val < 1000:\n",
        "          #new_tick_format = round(tick_val, 1)\n",
        "      else:\n",
        "          new_tick_format = tick_val\n",
        "    else:  \n",
        "      if tick_val >= 1000000000000:\n",
        "          val = round(tick_val/1000000000000, 1)\n",
        "          new_tick_format = '{:}T'.format(val)\n",
        "      elif tick_val >= 1000000000:\n",
        "          val = round(tick_val/1000000000, 1)\n",
        "          new_tick_format = '{:}B'.format(val)\n",
        "      elif tick_val >= 1000000:\n",
        "          val = round(tick_val/1000000, 1)\n",
        "          new_tick_format = '{:}M'.format(val)\n",
        "      elif tick_val >= 1000:\n",
        "          val = round(tick_val/1000, 1)\n",
        "          new_tick_format = '{:}K'.format(val)\n",
        "      elif tick_val < 1000:\n",
        "          new_tick_format = round(tick_val, 1)\n",
        "      else:\n",
        "          new_tick_format = tick_val\n",
        "\n",
        "    # make new_tick_format into a string value\n",
        "    new_tick_format = str(new_tick_format)\n",
        "    \n",
        "    # code below will keep 4.5M as is but change values such as 4.0M to 4M since that zero after the decimal isn't needed\n",
        "    index_of_decimal = new_tick_format.find(\".\")\n",
        "    \n",
        "    if index_of_decimal != -1:\n",
        "        value_after_decimal = new_tick_format[index_of_decimal+1]\n",
        "        if value_after_decimal == \"0\":\n",
        "            # remove the 0 after the decimal point since it's not needed\n",
        "            new_tick_format = new_tick_format[0:index_of_decimal] + new_tick_format[index_of_decimal+2:]\n",
        "            \n",
        "    return new_tick_format\n",
        "\n",
        "#Create a dataframe that will be set up as a grid\n",
        "# as follows [conservation_status, scientific_name]\n",
        "def gridDFBuilder(multiColumnGroupedDF, rowName, columnName, countCol):\n",
        "\n",
        "  rowListSeries = getattr(grouped_multiple, rowName)\n",
        "  columnListSeries = getattr(grouped_multiple, columnName)\n",
        "  \n",
        "  rowList= list(rowListSeries.unique())\n",
        "  columnList = list(columnListSeries.unique())\n",
        "\n",
        "  gridDF = pd.DataFrame(index=rowList)\n",
        "\n",
        "  #Add columns as scientific_name\n",
        "  for c in columnList:\n",
        "    gridDF[c] = ''\n",
        "\n",
        "\n",
        "  rowSeries = getattr(multiColumnGroupedDF, rowName)\n",
        "  columnSeries = getattr(multiColumnGroupedDF, columnName)\n",
        "  \n",
        "  for r in rowList:\n",
        "    l = []\n",
        "    for c in columnList:\n",
        "      result = multiColumnGroupedDF[(rowSeries == r) & (columnSeries == c)]\n",
        "      if(len(result) > 0):\n",
        "        newResult = getattr(result, countCol)\n",
        "        gridDF.loc[r,c] = newResult.values[0]\n",
        "      else:\n",
        "        gridDF.loc[r,c] = 0\n",
        "\n",
        "  return gridDF\n",
        "\n",
        "#Method to calculate the values at -2, -1, 1, and 2 standard deviations\n",
        "def calcDistribution(s: pd.Series):\n",
        "\n",
        "  sampleMean = np.mean(s)\n",
        "  sampleMedian = np.median(s)\n",
        "  sampleStdDev = np.std(s)\n",
        "\n",
        "  m2StdDev = round(sampleMean-(2*sampleStdDev))\n",
        "  m1StdDev = round(sampleMean-(1*sampleStdDev))\n",
        "  p1StdDev = round(sampleMean+(1*sampleStdDev))\n",
        "  p2StdDev = round(sampleMean+(2*sampleStdDev))\n",
        "\n",
        "  m2 = []\n",
        "  m1 = []\n",
        "  p1 = []\n",
        "  p2 = []\n",
        "\n",
        "  for value in s:\n",
        "    if(value >= m1StdDev and value < sampleMean):\n",
        "      m1.append(value)\n",
        "    elif(value >= m2StdDev and value < sampleMean):\n",
        "      m2.append(value)\n",
        "    elif(value > sampleMean and value <= p1StdDev): \n",
        "      p1.append(value)\n",
        "    elif(value > sampleMean and value <= p2StdDev): \n",
        "      p2.append(value)\n",
        "\n",
        "  #print([m2StdDev, m1StdDev, sampleMean, p1StdDev, p2StdDev])\n",
        "  distrib = {\"m2StdDev\": sum(m2), \"m1StdDev\": sum(m1), \"p1StdDev\": sum(p1),\"p2StdDev\": sum(p2)}\n",
        "\n",
        "  return distrib\n",
        "\n"
      ],
      "execution_count": null,
      "outputs": []
    },
    {
      "cell_type": "code",
      "metadata": {
        "id": "8b7okVTQlywH"
      },
      "source": [
        "#@title Code: Import Data\n",
        "# Import data and setup dictionary listing the dataframes\n",
        "#I append '_core' to tag these dataframes as my orignal dataframes\n",
        "#that are used for analysis as opposed to temporary dataframes that\n",
        "#are created throughout execution. This is necessarry since the list (dict)\n",
        "#of dataframes is from globals\n",
        "observationsDF_core = pd.read_csv('observations.csv')\n",
        "speciesDF_core = pd.read_csv('species_info.csv')"
      ],
      "execution_count": null,
      "outputs": []
    },
    {
      "cell_type": "markdown",
      "metadata": {
        "id": "o6WIVgnnlmBA"
      },
      "source": [
        "# Inspect the data - Part 1, Tidiness\r\n",
        "High level inspection for tidiness, variable type, etc."
      ]
    },
    {
      "cell_type": "code",
      "metadata": {
        "colab": {
          "base_uri": "https://localhost:8080/"
        },
        "id": "BskYm10TcNsU",
        "cellView": "form",
        "outputId": "c7edb177-fb81-431b-c617-bd843c9ab651"
      },
      "source": [
        "#@title Code: High Level Data Inspection (generic, independent of datasets)\n",
        "# Rename columns if necessarry\n",
        "#df.rename(columns={\"\": \"\"}, inplace=True)\n",
        "\n",
        "dfDict = getDataFramesAsDict();\n",
        "\n",
        "#Look at the data and its structure\n",
        "for k, v in dfDict.items():\n",
        "  splitK = k.split(\"_\")\n",
        "  if(len(splitK) > 1 and splitK[1] =='core'):\n",
        "    print(\"Dataframe: \"+k)\n",
        "    print(v.info())\n",
        "    print(\"\\n\")  \n",
        "    print(v.head())\n",
        "    print(\"\\n\\n\")    \n",
        "\n",
        "\n",
        "# Look for duplicate entries, NULL and NaN entries\n",
        "print(\"*****Control for duplicates*****\")\n",
        "for k, v in dfDict.items():\n",
        "  #The following two lines test to see if it is a 'core' dataframe for analysis\n",
        "  splitK = k.split(\"_\")\n",
        "  if(len(splitK) > 1 and splitK[1] =='core'):\n",
        "    print(\"\\nDataframe: \"+k+\"\\n\")\n",
        "    grouped = {}\n",
        "    groupedDuplicates = {}\n",
        "    grouped = v.groupby(v.columns.tolist(),as_index=False).size()\n",
        "    groupedDuplicates = grouped[grouped['size'] > 1]\n",
        "    print(\"*****List of duplicate entries*****\")\n",
        "    print(groupedDuplicates)\n",
        "\n",
        "    print(\"*****Look for NA and NULL entries******\")\n",
        "    v[v.isna().any(axis=1)]\n",
        "    #Do a quick check for entries that contain Null\n",
        "    v[v.isnull().any(axis=1)]"
      ],
      "execution_count": null,
      "outputs": [
        {
          "output_type": "stream",
          "text": [
            "Dataframe: observationsDF_core\n",
            "<class 'pandas.core.frame.DataFrame'>\n",
            "RangeIndex: 23296 entries, 0 to 23295\n",
            "Data columns (total 3 columns):\n",
            " #   Column           Non-Null Count  Dtype \n",
            "---  ------           --------------  ----- \n",
            " 0   scientific_name  23296 non-null  object\n",
            " 1   park_name        23296 non-null  object\n",
            " 2   observations     23296 non-null  int64 \n",
            "dtypes: int64(1), object(2)\n",
            "memory usage: 546.1+ KB\n",
            "None\n",
            "\n",
            "\n",
            "            scientific_name                            park_name  observations\n",
            "0        Vicia benghalensis  Great Smoky Mountains National Park            68\n",
            "1            Neovison vison  Great Smoky Mountains National Park            77\n",
            "2         Prunus subcordata               Yosemite National Park           138\n",
            "3      Abutilon theophrasti                  Bryce National Park            84\n",
            "4  Githopsis specularioides  Great Smoky Mountains National Park            85\n",
            "\n",
            "\n",
            "\n",
            "Dataframe: speciesDF_core\n",
            "<class 'pandas.core.frame.DataFrame'>\n",
            "RangeIndex: 5824 entries, 0 to 5823\n",
            "Data columns (total 4 columns):\n",
            " #   Column               Non-Null Count  Dtype \n",
            "---  ------               --------------  ----- \n",
            " 0   category             5824 non-null   object\n",
            " 1   scientific_name      5824 non-null   object\n",
            " 2   common_names         5824 non-null   object\n",
            " 3   conservation_status  191 non-null    object\n",
            "dtypes: object(4)\n",
            "memory usage: 182.1+ KB\n",
            "None\n",
            "\n",
            "\n",
            "  category  ... conservation_status\n",
            "0   Mammal  ...                 NaN\n",
            "1   Mammal  ...                 NaN\n",
            "2   Mammal  ...                 NaN\n",
            "3   Mammal  ...                 NaN\n",
            "4   Mammal  ...                 NaN\n",
            "\n",
            "[5 rows x 4 columns]\n",
            "\n",
            "\n",
            "\n",
            "*****Control for duplicates*****\n",
            "\n",
            "Dataframe: observationsDF_core\n",
            "\n",
            "*****List of duplicate entries*****\n",
            "              scientific_name  ... size\n",
            "1542            Arctium minus  ...    2\n",
            "2547   Botrychium virginianum  ...    2\n",
            "5210        Cichorium intybus  ...    2\n",
            "7435   Echinochloa crus-galli  ...    2\n",
            "7542     Eleocharis palustris  ...    2\n",
            "10039     Hesperis matronalis  ...    2\n",
            "13684    Monotropa hypopithys  ...    2\n",
            "16123          Plantago major  ...    2\n",
            "16362           Poa compressa  ...    2\n",
            "17209    Potentilla norvegica  ...    2\n",
            "17308       Prunella vulgaris  ...    2\n",
            "18843            Salix exigua  ...    2\n",
            "20612      Spilogale putorius  ...    2\n",
            "20957   Streptopelia decaocto  ...    2\n",
            "21902     Trifolium campestre  ...    2\n",
            "\n",
            "[15 rows x 4 columns]\n",
            "*****Look for NA and NULL entries******\n",
            "\n",
            "Dataframe: speciesDF_core\n",
            "\n",
            "*****List of duplicate entries*****\n",
            "Empty DataFrame\n",
            "Columns: [category, scientific_name, common_names, conservation_status, size]\n",
            "Index: []\n",
            "*****Look for NA and NULL entries******\n"
          ],
          "name": "stdout"
        }
      ]
    },
    {
      "cell_type": "code",
      "metadata": {
        "colab": {
          "base_uri": "https://localhost:8080/"
        },
        "id": "DiLk_sLm5C4a",
        "cellView": "form",
        "outputId": "f1b8ac42-f849-44c1-9514-1fb0641c7337"
      },
      "source": [
        "#@title Code: Convert values in speciesInfoDF_core.convservation_status\r\n",
        "#Convert the nan values in speciesInfoDF_core to \"None\"\r\n",
        "#The nan are instances of float instead of string so test for float\r\n",
        "#as we should only have string values in this column\r\n",
        "for v in speciesDF_core.values:\r\n",
        "  if ( isinstance(v[3], float) ):\r\n",
        "    v[3] = \"None\"\r\n",
        "\r\n",
        "print(speciesDF_core.head(10))"
      ],
      "execution_count": null,
      "outputs": [
        {
          "output_type": "stream",
          "text": [
            "  category  ... conservation_status\n",
            "0   Mammal  ...                None\n",
            "1   Mammal  ...                None\n",
            "2   Mammal  ...                None\n",
            "3   Mammal  ...                None\n",
            "4   Mammal  ...                None\n",
            "5   Mammal  ...                None\n",
            "6   Mammal  ...                None\n",
            "7   Mammal  ...  Species of Concern\n",
            "8   Mammal  ...          Endangered\n",
            "9   Mammal  ...          Endangered\n",
            "\n",
            "[10 rows x 4 columns]\n"
          ],
          "name": "stdout"
        }
      ]
    },
    {
      "cell_type": "code",
      "metadata": {
        "colab": {
          "base_uri": "https://localhost:8080/",
          "height": 512
        },
        "id": "mm8h869_47kg",
        "outputId": "94e12c23-52d8-4630-ff52-e666be3367dd"
      },
      "source": [
        "#@title Code: High level data concerning data sets\r\n",
        "uniqueParks = observationsDF_core.park_name.nunique()\r\n",
        "uniqueSpecies = speciesDF_core.scientific_name.nunique()\r\n",
        "totalObservations = observationsDF_core.observations.sum()\r\n",
        "print(\"There are \"+str(uniqueSpecies)+\" unique species in the species_info file.\")\r\n",
        "print(\"There are \"+str(uniqueParks)+\" parks where observations occurred.\")\r\n",
        "print(\"A total of \"+str(f'{totalObservations:n}')+\" were recorded.\")\r\n",
        "\r\n",
        "plt.clf()\r\n",
        "fig, ax = plt.subplots(figsize=(8,6))\r\n",
        "ax = sns.barplot(data=observationsDF_core, x='park_name', y='observations', estimator=sum)\r\n",
        "plt.title(\"Number of Observations per Park\")\r\n",
        "plt.ylabel(\"Nbr of Observations\")\r\n",
        "plt.xlabel(\"Park Name\")\r\n",
        "plt.xticks(rotation=15)\r\n",
        "plt.gcf().subplots_adjust(bottom=0.15)\r\n",
        "\r\n",
        "ax.yaxis.set_major_formatter(tick.FuncFormatter(reformat_large_tick_values));\r\n",
        "\r\n",
        "fig = plt.gcf()\r\n",
        "plt.draw()\r\n",
        "fig.savefig('observations_per_park.png', dpi=100, format='png')\r\n",
        "plt.show()\r\n"
      ],
      "execution_count": null,
      "outputs": [
        {
          "output_type": "stream",
          "text": [
            "There are 5541 unique species in the species_info file.\n",
            "There are 4 parks where observations occurred.\n",
            "A total of 3,314,739 were recorded.\n"
          ],
          "name": "stdout"
        },
        {
          "output_type": "display_data",
          "data": {
            "text/plain": [
              "<Figure size 432x288 with 0 Axes>"
            ]
          },
          "metadata": {
            "tags": []
          }
        },
        {
          "output_type": "display_data",
          "data": {
            "image/png": "[encoded data removed]",
            "text/plain": [
              "<Figure size 576x432 with 1 Axes>"
            ]
          },
          "metadata": {
            "tags": [],
            "needs_background": "light"
          }
        }
      ]
    },
    {
      "cell_type": "markdown",
      "metadata": {
        "id": "-SbtLbDrm1tQ"
      },
      "source": [
        "#Observations of data - Part 1, Tidiness\r\n",
        "\r\n",
        "* General observations\r\n",
        "  * species_info: contains 4 columns and 5,824 entries\r\n",
        "  * observations: contains 3 columns and 23,296 entries\r\n",
        "  * the column \"scientific_name\" is common to both dataframes and could be used to join them together if required\r\n",
        "  * There are no dates so we do not know the period that these observations took place\r\n",
        "  * More than 3 million observations were recorded of 5,541 species in 4 parks.\r\n",
        "* Duplicates\r\n",
        "  * species_info does not contain ducplicates\r\n",
        "  * observations contains duplicates of species, but it seems that these are observations for the sames species at different parks\r\n",
        "* Misc\r\n",
        "  * no null values are reported by pd.info() however *species_info.csv* does seem to have empty cells for the column *conservation_status* which show as \"NaN\". These have been converted to \"None\" as this is categorical data that we can use to classify and quantify later."
      ]
    },
    {
      "cell_type": "markdown",
      "metadata": {
        "id": "isuYivkOltQK"
      },
      "source": [
        "# Inspect the data - Part 2, Initial Analysis\r\n",
        "Start to look at high level statistics such as mean, etc. and make some initial plot to help identify a direction for our analysis and/or answer the question that we posed ourselves in the project scope."
      ]
    },
    {
      "cell_type": "code",
      "metadata": {
        "colab": {
          "base_uri": "https://localhost:8080/",
          "height": 540
        },
        "id": "-NSmSw6Gepnc",
        "outputId": "6315a57b-dda3-4162-d476-d1ec60328033"
      },
      "source": [
        "#@title Code: Plot conservation status by species\r\n",
        "#Filter out empty conservation_status\r\n",
        "df = speciesDF_core[speciesDF_core.conservation_status != \"None\"]\r\n",
        "#Count conserversation status by scientific name\r\n",
        "grouped_multiple = df.groupby(['conservation_status', 'category']).agg({'category': ['count']})\r\n",
        "#Without this line we don't get the unique() method\r\n",
        "grouped_multiple.columns = ['nbrCatConvStat']\r\n",
        "grouped_multiple = grouped_multiple.reset_index()\r\n",
        "\r\n",
        "#Transerform our aggregated DF into a grid of (row=conservation_status, column=category)\r\n",
        "#for use by pd.plot()\r\n",
        "gridDF = gridDFBuilder(grouped_multiple, 'conservation_status',  'category', 'nbrCatConvStat')\r\n",
        "\r\n",
        "fig, ax = plt.subplots()\r\n",
        "plt.clf()\r\n",
        "ax = gridDF.plot(kind='barh', figsize=(10,8), stacked=True)\r\n",
        "plt.xticks(rotation=45)\r\n",
        "plt.xlabel(\"Nbr of Species\")\r\n",
        "plt.ylabel(\"Conservation Status\")\r\n",
        "plt.title(\"Number of Species by Conservation Status\")\r\n",
        "\r\n",
        "plt.gcf().subplots_adjust(left=0.15)\r\n",
        "\r\n",
        "fig = plt.gcf()\r\n",
        "plt.draw()\r\n",
        "fig.savefig(\"nbrSpecies_by_status_and_category.png\", format=\"png\")\r\n",
        "plt.show()\r\n",
        "\r\n"
      ],
      "execution_count": null,
      "outputs": [
        {
          "output_type": "display_data",
          "data": {
            "text/plain": [
              "<Figure size 432x288 with 0 Axes>"
            ]
          },
          "metadata": {
            "tags": []
          }
        },
        {
          "output_type": "display_data",
          "data": {
            "image/png": "[encoded data removed]",
            "text/plain": [
              "<Figure size 720x576 with 1 Axes>"
            ]
          },
          "metadata": {
            "tags": [],
            "needs_background": "light"
          }
        }
      ]
    },
    {
      "cell_type": "markdown",
      "metadata": {
        "id": "fwLljtDDnHI-"
      },
      "source": [
        "# Observations of data - Part 2, Initial Analysis\r\n",
        "* Species and Conservation Status\r\n",
        "  * \"Species of Concern\" is the conservation status with by far the most number of species. This status has 7 categories of animals classified in it today. Birds, followed by Vascular Plants, and then Mammals are the top three categories of species."
      ]
    },
    {
      "cell_type": "markdown",
      "metadata": {
        "id": "w2IK_PCKeEze"
      },
      "source": [
        "# Data Analysis - A Deeper Dive"
      ]
    },
    {
      "cell_type": "markdown",
      "metadata": {
        "id": "sJp5kdjBSWoM"
      },
      "source": [
        "## What is the distribution of conservation_status for animals?"
      ]
    },
    {
      "cell_type": "code",
      "metadata": {
        "id": "ZLRH3OFpcQD-",
        "colab": {
          "base_uri": "https://localhost:8080/",
          "height": 548
        },
        "outputId": "000c0053-6ec8-4e45-f8b5-7529b28f0c18"
      },
      "source": [
        "#@title Code: What is the distribution of conservation_status for animals?\r\n",
        "#1. Plot a violin chart to get an initial impression\r\n",
        "\r\n",
        "transposedGridDF = gridDF.transpose()\r\n",
        "#print(transposedGridDF)\r\n",
        "\r\n",
        "plt.clf()\r\n",
        "\r\n",
        "fig, ax = plt.subplots(figsize=(10,8))\r\n",
        "ax = sns.violinplot(data = grouped_multiple, x='conservation_status', y='nbrCatConvStat')\r\n",
        "plt.title(\"Nbr of Species per Conservation Status\")\r\n",
        "plt.xlabel(\"Conservation Status\")\r\n",
        "plt.ylabel(\"Nbr of Species\")\r\n",
        "\r\n",
        "fig = plt.gcf()\r\n",
        "plt.show()\r\n",
        "plt.draw()\r\n",
        "fig.savefig(\"distribution_status.png\", format=\"png\")"
      ],
      "execution_count": null,
      "outputs": [
        {
          "output_type": "display_data",
          "data": {
            "text/plain": [
              "<Figure size 432x288 with 0 Axes>"
            ]
          },
          "metadata": {
            "tags": []
          }
        },
        {
          "output_type": "display_data",
          "data": {
            "image/png": "[encoded data removed]",
            "text/plain": [
              "<Figure size 720x576 with 1 Axes>"
            ]
          },
          "metadata": {
            "tags": [],
            "needs_background": "light"
          }
        },
        {
          "output_type": "display_data",
          "data": {
            "text/plain": [
              "<Figure size 432x288 with 0 Axes>"
            ]
          },
          "metadata": {
            "tags": []
          }
        }
      ]
    },
    {
      "cell_type": "markdown",
      "metadata": {
        "id": "-NxKllgtseqI"
      },
      "source": [
        "We can see that the consveration status \"Species of Concern\" merits firther exploration."
      ]
    },
    {
      "cell_type": "code",
      "metadata": {
        "id": "5g0XDbb4eJjI",
        "colab": {
          "base_uri": "https://localhost:8080/",
          "height": 611
        },
        "outputId": "5ee4ac71-0bc7-4e57-a00a-67802977d718"
      },
      "source": [
        "#@title Code: Review the data for the conservation status \"Species of Concern\"\r\n",
        "#2. Calculate the mean and median\r\n",
        "#3. Further visualize with a histogram to visualize the sorted data\r\n",
        "\r\n",
        "#This could may not be very 'pythonic', but since I already have the dataframe\r\n",
        "#'gridDF', I will reuse it to calcute mean and median and plot the distribution.\r\n",
        "x = list(gridDF.columns)\r\n",
        "y = gridDF[gridDF.index == 'Species of Concern']\r\n",
        "sampleMean = np.mean(y.values[0])\r\n",
        "sampleMedian = np.median(y.values[0])\r\n",
        "sampleStdDev = np.std(y.values[0])\r\n",
        "\r\n",
        "#distrib = calcDistribution(pd.Series(y.values[0]))\r\n",
        "distrib = calcDistribution(pd.Series(y.values[0]))\r\n",
        "\r\n",
        "within1StdDev = distrib[\"m1StdDev\"]+ distrib[\"p1StdDev\"]\r\n",
        "within2StdDev = within1StdDev + distrib[\"m2StdDev\"]+distrib[\"p2StdDev\"]\r\n",
        "\r\n",
        "percent1StdDev = within1StdDev/sum(y.values[0])*100\r\n",
        "percent2StdDev = within2StdDev/sum(y.values[0])*100\r\n",
        "\r\n",
        "if(percent1StdDev < 68):\r\n",
        "  print(\"The data for consveration status by species is not a normal distribution since only \"+str(\"{0:.2f}%\".format(percent1StdDev))+\" of the values are within 1 standard deviation of the mean.\")\r\n",
        "\r\n",
        "print(\"\\nLets look at the conservation status 'Species of Concern.\")\r\n",
        "\r\n",
        "y = y.values[0].tolist()\r\n",
        "\r\n",
        "fig, ax = plt.subplots(figsize=(10,8))\r\n",
        "plt.bar(x, y, color='green')\r\n",
        "plt.xticks(rotation=45)\r\n",
        "plt.title(\"Nbr of Species with Status Species of Concern\")\r\n",
        "plt.xlabel(\"Species\")\r\n",
        "plt.ylabel(\"Nbr of Species\")\r\n",
        "\r\n",
        "plt.gcf().subplots_adjust(bottom=0.15)\r\n",
        "\r\n",
        "fig = plt.gcf()\r\n",
        "plt.draw()\r\n",
        "fig.savefig(\"nbrSpecies_per_category_for_stat_speciesOfConcern.png\", format=\"png\")\r\n",
        "plt.show()"
      ],
      "execution_count": null,
      "outputs": [
        {
          "output_type": "stream",
          "text": [
            "The data for consveration status by species is not a normal distribution since only 55.28% of the values are within 1 standard deviation of the mean.\n",
            "\n",
            "Lets look at the conservation status 'Species of Concern.\n"
          ],
          "name": "stdout"
        },
        {
          "output_type": "display_data",
          "data": {
            "image/png": "[encoded data removed]",
            "text/plain": [
              "<Figure size 720x576 with 1 Axes>"
            ]
          },
          "metadata": {
            "tags": [],
            "needs_background": "light"
          }
        }
      ]
    },
    {
      "cell_type": "markdown",
      "metadata": {
        "id": "kSW_ZBiZSPKs"
      },
      "source": [
        "## Are certain types of species more likely to be endangered?"
      ]
    },
    {
      "cell_type": "code",
      "metadata": {
        "colab": {
          "base_uri": "https://localhost:8080/",
          "height": 559
        },
        "id": "SQiLygDQtfJf",
        "outputId": "bbd0390c-4d72-42a1-dece-3b8ebe54410b"
      },
      "source": [
        "#@title Code: Are certain types of species more likely to be endangered?\r\n",
        "totalBySpecies = gridDF[gridDF.index == 'Endangered'].sum()\r\n",
        "\r\n",
        "x= totalBySpecies.index.values\r\n",
        "y = totalBySpecies.values\r\n",
        "fig, ax = plt.subplots(figsize=(10,8))\r\n",
        "plt.bar(x, y, color='red')\r\n",
        "plt.xticks(rotation=45)\r\n",
        "plt.title(\"Nbr of Species 'Endangered'\")\r\n",
        "plt.xlabel(\"Species\")\r\n",
        "plt.ylabel(\"Nbr of Species\")\r\n",
        "\r\n",
        "plt.gcf().subplots_adjust(bottom=0.15)\r\n",
        "\r\n",
        "fig = plt.gcf()\r\n",
        "plt.draw()\r\n",
        "fig.savefig(\"nbrSpecies_per_category_for_stat_Endangered.png\", format=\"png\")\r\n",
        "plt.show()"
      ],
      "execution_count": null,
      "outputs": [
        {
          "output_type": "display_data",
          "data": {
            "image/png": "[encoded data removed]",
            "text/plain": [
              "<Figure size 720x576 with 1 Axes>"
            ]
          },
          "metadata": {
            "tags": [],
            "needs_background": "light"
          }
        }
      ]
    },
    {
      "cell_type": "markdown",
      "metadata": {
        "id": "qRlP3L7c_O1F"
      },
      "source": [
        "## Are the differences between species and their conservation status significant?"
      ]
    },
    {
      "cell_type": "code",
      "metadata": {
        "colab": {
          "base_uri": "https://localhost:8080/",
          "height": 427
        },
        "id": "C0hrBZxs_Q-N",
        "outputId": "6742fc0f-f955-4c75-9871-9087774b3be0"
      },
      "source": [
        "#@title Code: Are the difference between species and their conservation status significant?\r\n",
        "#Count conserversation status by scientific name\r\n",
        "grouped_multiple = df.groupby(['category', 'conservation_status']).agg({'conservation_status': ['count']})\r\n",
        "#Without this line we don't get the unique() method\r\n",
        "grouped_multiple.columns = ['nbrCatConvStat']\r\n",
        "grouped_multiple = grouped_multiple.reset_index()\r\n",
        "\r\n",
        "fig, ax = plt.subplots(figsize=(12,8))\r\n",
        "plt.clf()\r\n",
        "ax = sns.catplot(data = grouped_multiple, x='category', y='nbrCatConvStat', hue='conservation_status', jitter=False)\r\n",
        "plt.xticks(rotation=25)\r\n",
        "plt.xlabel(\"Category\")\r\n",
        "plt.ylabel(\"Number of Species\")\r\n",
        "plt.title(\"Number of Species by Category & Conservation Status\")\r\n",
        "ax._legend.set_title(\"Conservation Status\")\r\n",
        "\r\n",
        "plt.gcf().subplots_adjust(bottom=0.15)\r\n",
        "\r\n",
        "\r\n",
        "fig = plt.gcf()\r\n",
        "plt.draw()\r\n",
        "fig.savefig(\"nbrSpecies_per_category_by_status.png\", format=\"png\")\r\n",
        "plt.show()"
      ],
      "execution_count": null,
      "outputs": [
        {
          "output_type": "display_data",
          "data": {
            "text/plain": [
              "<Figure size 864x576 with 0 Axes>"
            ]
          },
          "metadata": {
            "tags": []
          }
        },
        {
          "output_type": "display_data",
          "data": {
            "image/png": "[encoded data removed]",
            "text/plain": [
              "<Figure size 491.5x360 with 1 Axes>"
            ]
          },
          "metadata": {
            "tags": [],
            "needs_background": "light"
          }
        }
      ]
    },
    {
      "cell_type": "markdown",
      "metadata": {
        "id": "O9n4zYZWaLk6"
      },
      "source": [
        "## Which species were spotted the most at each park?"
      ]
    },
    {
      "cell_type": "code",
      "metadata": {
        "colab": {
          "base_uri": "https://localhost:8080/"
        },
        "id": "BVHDbWzkaQkO",
        "outputId": "8d017a42-4704-4d33-ed13-a27681c7a934"
      },
      "source": [
        "#@title Code: Which species were spotte the most at each park?\r\n",
        "\r\n",
        "parkList = observationsDF_core.park_name.unique()\r\n",
        "\r\n",
        "myDF = pd.DataFrame(index=parkList)\r\n",
        "\r\n",
        "myDict = {}\r\n",
        "for park in parkList:\r\n",
        "  iLoc = observationsDF_core[observationsDF_core.park_name == park].observations.idxmax()\r\n",
        "  k = park\r\n",
        "  i = observationsDF_core.loc[iLoc].scientific_name\r\n",
        "  v = observationsDF_core.loc[iLoc].observations\r\n",
        "  #d['mynewkey'] = 'mynewvalue'\r\n",
        "  myDict[k] = [i,v]\r\n",
        "\r\n",
        "#print(myDict)\r\n",
        "\r\n",
        "for i in myDict.items():\r\n",
        "  print(i[0]+\": \"+i[1][0]+\" = \"+str(i[1][1])+\" observations.\")  "
      ],
      "execution_count": null,
      "outputs": [
        {
          "output_type": "stream",
          "text": [
            "Great Smoky Mountains National Park: Sonchus asper ssp. asper = 147 observations.\n",
            "Yosemite National Park: Ivesia shockleyi var. shockleyi = 223 observations.\n",
            "Bryce National Park: Valerianella radiata = 176 observations.\n",
            "Yellowstone National Park: Lycopodium tristachyum = 321 observations.\n"
          ],
          "name": "stdout"
        }
      ]
    },
    {
      "cell_type": "markdown",
      "metadata": {
        "id": "BxK2-Cq-lbst"
      },
      "source": [
        "#Conclusion\r\n",
        "* What is the distribution of conservation_status for animals?\r\n",
        "  * **Answer**: The data are not normally distributed. They are however,  highly concentrated on the status \"Series of Concern\". However, within this conservation status we see that the data is more distributed across the seven categories of species with \"Bird\", \"Mammal\", and \"Vascular Plant\" making the top three, resepctively.\r\n",
        "* Are certain types of species more likely to be endangered?\r\n",
        "  * **Answer**: Yes, the category \"Mammal\" has the most number of species classified as \"Endangered\"\r\n",
        "* Are the differences between species and their conservation status significant?\r\n",
        "  * Observation of question: this question lends itself to calculate the number of \"scientific_name\" per \"category\". However, unless I am mistaken, a \"category\" is not a species, but type of species. In other words \"Cains lupus\" is a species of type \"Mammal\". If the question were to simply be answered in terms of species (\"scientific_name\") per \"conservation_status\" we would simply see one species per \"conservation_status\" as the status is not differentiate per park. This would not be very interesting. We can therefore use the data from the previous question, but will have to add the conservation status \"In Recovery\" back in.\r\n",
        "  * **Answer**: Yes for the categories of \"Bird\", \"Mammal\", and \"Vascular Plant\". The other categories do not display significant differences.\r\n",
        "* Which species were spotted the most at each park?\r\n",
        "  * **Answer**:\r\n",
        "    * Great Smoky Mountains National Park: Sonchus asper ssp. asper = 147 observations.\r\n",
        "    * Yosemite National Park: Ivesia shockleyi var. shockleyi = 223 observations.\r\n",
        "    * Bryce National Park: Valerianella radiata = 176 observations\r\n",
        "    * Yellowstone National Park: Lycopodium tristachyum = 321 observations."
      ]
    }
  ]
}