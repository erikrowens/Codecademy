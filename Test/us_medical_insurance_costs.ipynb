{
  "nbformat": 4,
  "nbformat_minor": 0,
  "metadata": {
    "colab": {
      "name": "us-medical-insurance-costs",
      "provenance": [],
      "collapsed_sections": [
        "kllAJHS52dO2"
      ],
      "toc_visible": true,
      "history_visible": true,
      "authorship_tag": "ABX9TyNNWooCwicOHKmcF/ye3kex",
      "include_colab_link": true
    },
    "kernelspec": {
      "name": "python3",
      "display_name": "Python 3"
    }
  },
  "cells": [
    {
      "cell_type": "markdown",
      "metadata": {
        "id": "view-in-github",
        "colab_type": "text"
      },
      "source": [
        "<a href=\"https://colab.research.google.com/github/erikrowens/Codecademy/blob/main/Test/us_medical_insurance_costs.ipynb\" target=\"_parent\"><img src=\"https://colab.research.google.com/assets/colab-badge.svg\" alt=\"Open In Colab\"/></a>"
      ]
    },
    {
      "cell_type": "markdown",
      "metadata": {
        "id": "bguPhduc4Gmm"
      },
      "source": [
        "# First project\n",
        "Part of CodeAcademy Data Science career path. Portfolio project to analyse a CSV file containing insurance related data (sample below.)\n",
        "\n",
        "![Untitled.png](data:image/png;base64,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)\n",
        "\n",
        "I will start by exploring the average cost of insurance by age group (decade by decade) to see if any interesting results appear."
      ]
    },
    {
      "cell_type": "code",
      "metadata": {
        "id": "THpKIdCC2hgP"
      },
      "source": [
        "import numpy as np\n",
        "import matplotlib.pyplot as plt"
      ],
      "execution_count": null,
      "outputs": []
    },
    {
      "cell_type": "markdown",
      "metadata": {
        "id": "kllAJHS52dO2"
      },
      "source": [
        "# Retrieve and store data\n",
        "Class to get data from a CSV file and store the data into lists within a new object"
      ]
    },
    {
      "cell_type": "code",
      "metadata": {
        "id": "qZfNBWgSEFjX"
      },
      "source": [
        "class InsuranceData:\n",
        "  def __init__(self, csvfile):\n",
        "    import csv\n",
        "\n",
        "    self.age=[]\n",
        "    self.sex=[]\n",
        "    self.bmi=[]\n",
        "    self.children=[]\n",
        "    self.smoker=[]\n",
        "    self.region=[]\n",
        "    self.charges=[]\n",
        "\n",
        "    with open(csvfile, newline='') as csvfile:\n",
        "      reader = csv.DictReader(csvfile)\n",
        "      for row in reader:\n",
        "        self.age.append(int(row['age']))\n",
        "        self.sex.append(row['sex'])\n",
        "        self.bmi.append(float(row['bmi']))\n",
        "        self.children.append(int(row['children']))\n",
        "        '''\n",
        "        convert the values in the smoker column to int\n",
        "        so that we can sum and count more easily (code reusability)\n",
        "        '''\n",
        "        if row['smoker'] == 'yes':\n",
        "          self.smoker.append(1)\n",
        "        elif row['smoker'] == 'no':\n",
        "          self.smoker.append(0)  \n",
        "        self.region.append(row['region'])\n",
        "        self.charges.append(float(row['charges']))\n"
      ],
      "execution_count": null,
      "outputs": []
    },
    {
      "cell_type": "markdown",
      "metadata": {
        "id": "37DbubFl3pcS"
      },
      "source": [
        "# Calculate the average insurance cost by age group\n",
        "Parse the data to find out how many individual decades (10s, 20s, etc.) exist and then calculte the average insurance costs per age group. Returns a dict"
      ]
    },
    {
      "cell_type": "code",
      "metadata": {
        "id": "TAI_i2nk3QV-"
      },
      "source": [
        "def group_by_decades(ages):\n",
        "  interval = 10\n",
        "\n",
        "  ages_by_decade = [int(np.floor(age/interval)*interval) for age in ages]\n",
        "\n",
        "  decades = {}\n",
        "  for decade in sorted(ages_by_decade):\n",
        "    if decade not in decades:\n",
        "      '''\n",
        "      create key/value pair = decade/empty place holder = 0\n",
        "      this is so that we can use this method for other purposes\n",
        "      than simply the average cost per decade\n",
        "      '''\n",
        "      decades.update({decade: 0})\n",
        "\n",
        "  return decades, ages_by_decade\n",
        "  \n",
        "def average_by_decade(ages, list_of_data):\n",
        "  \n",
        "  decades, ages_by_decade = group_by_decades(ages)\n",
        "  \n",
        "  new_data = list(zip(ages_by_decade, list_of_data))\n",
        "\n",
        "  for decade in decades.keys():\n",
        "    total = 0\n",
        "    count = 0\n",
        "    for decade_age in new_data:\n",
        "      if decade_age[0] == decade:\n",
        "        total += decade_age[1]\n",
        "        count += 1\n",
        "    if count > 0:\n",
        "      average = total /count\n",
        "    '''\n",
        "    not currently handling cases where the count = 0 since the lists should not\n",
        "    contain any\n",
        "    '''\n",
        "    #we can now update the key/value pair the average cost for the decade\n",
        "    decades.update({decade: average})\n",
        "\n",
        "  return decades\n",
        "\n",
        "def average_by_region(regions, list_of_data):\n",
        "  \n",
        "  unique_regions = {}\n",
        "  for new_region in sorted(regions):  \n",
        "    if new_region not in unique_regions:\n",
        "      '''\n",
        "      create key/value pair = decade/empty place holder = 0\n",
        "      this is so that we can use this method for other purposes\n",
        "      than simply the average cost per decade\n",
        "      '''\n",
        "      unique_regions.update({new_region: 0})\n",
        "\n",
        "\n",
        "def labelMaker(avgChargesByDecadeDict):\n",
        "  labels = []\n",
        "  keys = list(avgChargesByDecade.keys())\n",
        "  i = 0\n",
        "  for key in keys:\n",
        "    if(i < len(keys)-1):\n",
        "      labels.append(str(key)+\" - \"+str(keys[i+1]-1))\n",
        "    else:\n",
        "      labels.append(str(key)+\" - \"+str((key+10)-1))\n",
        "    i+=1\n",
        "\n",
        "\n",
        "  return labels"
      ],
      "execution_count": null,
      "outputs": []
    },
    {
      "cell_type": "markdown",
      "metadata": {
        "id": "6coHQVXj3_W2"
      },
      "source": [
        "# Run the script"
      ]
    },
    {
      "cell_type": "code",
      "metadata": {
        "colab": {
          "base_uri": "https://localhost:8080/",
          "height": 279
        },
        "id": "D2PoAwSV3XfI",
        "outputId": "2f352b00-3987-44c6-d05e-e88fbf3c34b6"
      },
      "source": [
        "insuranceData = InsuranceData('insurance.csv')\n",
        "avgChargesByDecade = average_by_decade(insuranceData.age, insuranceData.charges)\n",
        "\n",
        "#now plot the results to use for data exploration\n",
        "plt.bar(list(avgChargesByDecade.keys()), list(avgChargesByDecade.values()), width=3)\n",
        "plt.xlabel('Age group')\n",
        "plt.ylabel('Averge cost')\n",
        "labels = labelMaker(avgChargesByDecade)\n",
        "plt.xticks(list(avgChargesByDecade.keys()), labels)\n",
        "plt.show()"
      ],
      "execution_count": null,
      "outputs": [
        {
          "output_type": "display_data",
          "data": {
            "image/png": "[encoded data removed]",
            "text/plain": [
              "<Figure size 432x288 with 1 Axes>"
            ]
          },
          "metadata": {
            "tags": [],
            "needs_background": "light"
          }
        }
      ]
    },
    {
      "cell_type": "markdown",
      "metadata": {
        "id": "UYYMk2CUBMxP"
      },
      "source": [
        "As we can see the average cost increases significantly decade by decade.\n",
        "\n",
        "It could be interesting to find out why in our hypothetical data, the average cost increases so much decade by decade as we age. Are factors such as smoking, BMI, or children related? People in their teens may be more active and are less likely to have children than those in their 30s, 40s, or 50s."
      ]
    },
    {
      "cell_type": "markdown",
      "metadata": {
        "id": "ADB7l7BgM7XY"
      },
      "source": [
        "# Smoking does not appear to explain the difference\n",
        "As we can see the percentage of smokers per age group is fairly uniform with the exception of those in their 50s. But the percentage of smokers by itself does not explain the difference in costs between the 20s and 60s age groups as their percentage of smokers is faily close."
      ]
    },
    {
      "cell_type": "code",
      "metadata": {
        "colab": {
          "base_uri": "https://localhost:8080/",
          "height": 279
        },
        "id": "AeVFnh7qGR1N",
        "outputId": "3c883092-917c-4c25-bc14-ab67d3a5f875"
      },
      "source": [
        "avgNbrSmokers = average_by_decade(insuranceData.age, insuranceData.smoker)\n",
        "\n",
        "for key in avgNbrSmokers.keys():\n",
        "  avgNbrSmokers.update({key: round(avgNbrSmokers.get(key) * 100, 2)})\n",
        "\n",
        "plt.bar(list(avgNbrSmokers.keys()), list(avgNbrSmokers.values()), width = 3, color='green')\n",
        "plt.xlabel('Age group')\n",
        "plt.ylabel('% population that smokes')\n",
        "labels = labelMaker(avgNbrSmokers)\n",
        "plt.xticks(list(avgNbrSmokers.keys()), labels)\n",
        "plt.show()"
      ],
      "execution_count": null,
      "outputs": [
        {
          "output_type": "display_data",
          "data": {
            "image/png": "[encoded data removed]",
            "text/plain": [
              "<Figure size 432x288 with 1 Axes>"
            ]
          },
          "metadata": {
            "tags": [],
            "needs_background": "light"
          }
        }
      ]
    },
    {
      "cell_type": "markdown",
      "metadata": {
        "id": "9h18ASQPPCZD"
      },
      "source": [
        "# Average number of children per age group\n",
        "The number of children per patient does not appear to explain the increase in costs decade by decade as those in their 60s have, on average, less children insured on their policy."
      ]
    },
    {
      "cell_type": "code",
      "metadata": {
        "colab": {
          "base_uri": "https://localhost:8080/",
          "height": 279
        },
        "id": "E7mlTxo9Odsl",
        "outputId": "440154f9-b209-475a-e235-8cc5a995e7ff"
      },
      "source": [
        "avgChildren = average_by_decade(insuranceData.age, insuranceData.children)\n",
        "\n",
        "plt.bar(list(avgChildren.keys()), list(avgChildren.values()), width = 3, color='blue')\n",
        "plt.xlabel('Age group')\n",
        "plt.ylabel('Average Nbr Children')\n",
        "labels = labelMaker(avgChildren)\n",
        "plt.xticks(list(avgChildren.keys()), labels)\n",
        "plt.show()"
      ],
      "execution_count": null,
      "outputs": [
        {
          "output_type": "display_data",
          "data": {
            "image/png": "[encoded data removed]",
            "text/plain": [
              "<Figure size 432x288 with 1 Axes>"
            ]
          },
          "metadata": {
            "tags": [],
            "needs_background": "light"
          }
        }
      ]
    },
    {
      "cell_type": "markdown",
      "metadata": {
        "id": "2VO4oTi5O08q"
      },
      "source": [
        "# BMI?\n",
        "Teh average BMI does increase decade by decade. At first glance there does not seem to be a strong correlation between the increase in average BMI and insurance costs."
      ]
    },
    {
      "cell_type": "code",
      "metadata": {
        "colab": {
          "base_uri": "https://localhost:8080/",
          "height": 384
        },
        "id": "rfWMnVqiNofX",
        "outputId": "0a00e5a2-c2a2-426e-9ef2-5fb0eb2f3026"
      },
      "source": [
        "avgBMI = average_by_decade(insuranceData.age, insuranceData.bmi)\n",
        "\n",
        "plt.bar(list(avgBMI.keys()), list(avgBMI.values()), width = 3, color='red')\n",
        "plt.xlabel('Age group')\n",
        "plt.ylabel('Average BMI')\n",
        "labels = labelMaker(avgBMI)\n",
        "plt.xticks(list(avgBMI.keys()), labels)\n",
        "plt.show()\n",
        "\n",
        "for key in avgBMI.keys():\n",
        "  print(\"The average BMI for patients in their \"+str(key)+\"s is \"+str(round(avgBMI.get(key),2)))"
      ],
      "execution_count": null,
      "outputs": [
        {
          "output_type": "display_data",
          "data": {
            "image/png": "[encoded data removed]",
            "text/plain": [
              "<Figure size 432x288 with 1 Axes>"
            ]
          },
          "metadata": {
            "tags": [],
            "needs_background": "light"
          }
        },
        {
          "output_type": "stream",
          "text": [
            "The average BMI for patients in their 10s is 29.97\n",
            "The average BMI for patients in their 20s is 29.79\n",
            "The average BMI for patients in their 30s is 30.44\n",
            "The average BMI for patients in their 40s is 30.71\n",
            "The average BMI for patients in their 50s is 31.51\n",
            "The average BMI for patients in their 60s is 32.02\n"
          ],
          "name": "stdout"
        }
      ]
    },
    {
      "cell_type": "markdown",
      "metadata": {
        "id": "fJ7hDCEdVJF2"
      },
      "source": [
        "# Conclusion\n",
        "While I have not looked at the data by gender or region is seems that age remains the biggest factor to the change in insurance costs with a slight impact from BMI (which is also  age dependant) as well. Since I have not analysed costs by gender or region these two factors can not be ruled out. Region could have an impact as it is possible that there could be smaller populations in different regions thereby increasing the costs as there are less patients to pay in. "
      ]
    }
  ]
}