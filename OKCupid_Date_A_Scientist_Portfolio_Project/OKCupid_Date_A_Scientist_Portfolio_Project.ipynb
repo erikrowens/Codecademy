{
  "nbformat": 4,
  "nbformat_minor": 0,
  "metadata": {
    "colab": {
      "name": "OKCupid Date-A-Scientist Portfolio Project.ipynb",
      "provenance": [],
      "collapsed_sections": [],
      "mount_file_id": "1WeXgyzenh8VFu35XN9SKDe4eRUnj_ODG",
      "authorship_tag": "ABX9TyP/eFBop/ZHKvdtA/SEtB6i",
      "include_colab_link": true
    },
    "kernelspec": {
      "name": "python3",
      "display_name": "Python 3"
    }
  },
  "cells": [
    {
      "cell_type": "markdown",
      "metadata": {
        "id": "view-in-github",
        "colab_type": "text"
      },
      "source": [
        "<a href=\"https://colab.research.google.com/github/erikrowens/Codecademy/blob/main/OKCupid_Date_A_Scientist_Portfolio_Project/OKCupid_Date_A_Scientist_Portfolio_Project.ipynb\" target=\"_parent\"><img src=\"https://colab.research.google.com/assets/colab-badge.svg\" alt=\"Open In Colab\"/></a>"
      ]
    },
    {
      "cell_type": "markdown",
      "metadata": {
        "id": "GcnrOVcMf3w6"
      },
      "source": [
        "#OKCupide Date-A-Scientist Portfolio Project"
      ]
    },
    {
      "cell_type": "markdown",
      "metadata": {
        "id": "dAe_O2AxgJqN"
      },
      "source": [
        "##Overview\r\n",
        "In recent years, there has been a massive rise in the usage of dating apps to find love. Many of these apps use sophisticated data science techniques to recommend possible matches to users and to optimize the user experience. These apps give us access to a wealth of information that we’ve never had before about how different people experience romance.\r\n",
        "\r\n",
        "In this portfolio project, you will analyze some data from OKCupid, an app that focuses on using multiple choice and short answers to match users.\r\n",
        "\r\n",
        "You will also create a presentation about your findings from this OKCupid dataset.\r\n",
        "\r\n",
        "The purpose of this project is to practice formulating questions and implementing machine learning techniques to answer those questions. However, the questions you ask and how you answer them are entirely up to you."
      ]
    },
    {
      "cell_type": "code",
      "metadata": {
        "id": "Knjvb4tPfWJw"
      },
      "source": [
        "#@title Code: Import libraries\r\n",
        "#Required to update the path statement to import a PY file from project folder\r\n",
        "import sys\r\n",
        "import pandas as pd\r\n",
        "import numpy as np\r\n",
        "import matplotlib.pyplot as plt\r\n",
        "import seaborn as sns\r\n",
        "from sklearn.linear_model import LogisticRegression\r\n",
        "from sklearn.model_selection import train_test_split\r\n",
        "from sklearn.preprocessing import StandardScaler\r\n",
        "\r\n",
        "#Set the path to the current project folder\r\n",
        "#If permanently mounting via the notebook\r\n",
        "projectFolder = './drive/My Drive/Colab Notebooks/Codecademy/OKCupid Date-A-Scientist Portfolio Project/'\r\n",
        "\r\n",
        "#Update the path statement so that we can import our PY files for this project\r\n",
        "sys.path.insert(1, projectFolder)"
      ],
      "execution_count": null,
      "outputs": []
    },
    {
      "cell_type": "markdown",
      "metadata": {
        "id": "dGB41-L8iBOt"
      },
      "source": [
        "# Project Scope\r\n",
        "\r\n",
        "*   Goals\r\n",
        "  * The goal of this project is to define and attempt to answer one or more questions using machine learning.\r\n",
        "  * Given that the data does not contain any information on successful or failed matches to test a model agains it does not seem wise to try and predict potential matches or potentail categories that could be used to predict matches.\r\n",
        "  * Instead I will try to apply a supervised ML model to determine if smoking and drinking predict drug use according to the profile data.\r\n",
        "*   Data\r\n",
        "  * I will use the *profiles.csv* file supplied from Codecademy and sourced from OKCupid. This file contatins the relevant data that appears to be a subset of user data profiles from OKCupid.\r\n",
        "*   Analysis\r\n",
        "  * I will use tools such as numpy, pandas, matplotlib, and seaborne to explore, analyse, and visualise the data. And the LogisticRegression ML model from sklearn to attempt to answer our question(s).\r\n",
        "  * Once completed I hope to be able draw our conclusions based the goals for the project.\r\n",
        "\r\n",
        "\r\n",
        "\r\n"
      ]
    },
    {
      "cell_type": "code",
      "metadata": {
        "id": "8b7okVTQlywH",
        "colab": {
          "base_uri": "https://localhost:8080/",
          "height": 1000
        },
        "outputId": "56c6e347-c67d-45c0-f473-961fe0d1dade"
      },
      "source": [
        "#@title Code: Import data\r\n",
        "profilesDF = pd.read_csv(projectFolder+\"profiles.csv\")\r\n",
        "profilesDF"
      ],
      "execution_count": null,
      "outputs": [
        {
          "output_type": "execute_result",
          "data": {
            "text/html": [
              "<div>\n",
              "<style scoped>\n",
              "    .dataframe tbody tr th:only-of-type {\n",
              "        vertical-align: middle;\n",
              "    }\n",
              "\n",
              "    .dataframe tbody tr th {\n",
              "        vertical-align: top;\n",
              "    }\n",
              "\n",
              "    .dataframe thead th {\n",
              "        text-align: right;\n",
              "    }\n",
              "</style>\n",
              "<table border=\"1\" class=\"dataframe\">\n",
              "  <thead>\n",
              "    <tr style=\"text-align: right;\">\n",
              "      <th></th>\n",
              "      <th>age</th>\n",
              "      <th>body_type</th>\n",
              "      <th>diet</th>\n",
              "      <th>drinks</th>\n",
              "      <th>drugs</th>\n",
              "      <th>education</th>\n",
              "      <th>essay0</th>\n",
              "      <th>essay1</th>\n",
              "      <th>essay2</th>\n",
              "      <th>essay3</th>\n",
              "      <th>essay4</th>\n",
              "      <th>essay5</th>\n",
              "      <th>essay6</th>\n",
              "      <th>essay7</th>\n",
              "      <th>essay8</th>\n",
              "      <th>essay9</th>\n",
              "      <th>ethnicity</th>\n",
              "      <th>height</th>\n",
              "      <th>income</th>\n",
              "      <th>job</th>\n",
              "      <th>last_online</th>\n",
              "      <th>location</th>\n",
              "      <th>offspring</th>\n",
              "      <th>orientation</th>\n",
              "      <th>pets</th>\n",
              "      <th>religion</th>\n",
              "      <th>sex</th>\n",
              "      <th>sign</th>\n",
              "      <th>smokes</th>\n",
              "      <th>speaks</th>\n",
              "      <th>status</th>\n",
              "    </tr>\n",
              "  </thead>\n",
              "  <tbody>\n",
              "    <tr>\n",
              "      <th>0</th>\n",
              "      <td>22</td>\n",
              "      <td>a little extra</td>\n",
              "      <td>strictly anything</td>\n",
              "      <td>socially</td>\n",
              "      <td>never</td>\n",
              "      <td>working on college/university</td>\n",
              "      <td>about me:&lt;br /&gt;\\n&lt;br /&gt;\\ni would love to think...</td>\n",
              "      <td>currently working as an international agent fo...</td>\n",
              "      <td>making people laugh.&lt;br /&gt;\\nranting about a go...</td>\n",
              "      <td>the way i look. i am a six foot half asian, ha...</td>\n",
              "      <td>books:&lt;br /&gt;\\nabsurdistan, the republic, of mi...</td>\n",
              "      <td>food.&lt;br /&gt;\\nwater.&lt;br /&gt;\\ncell phone.&lt;br /&gt;\\n...</td>\n",
              "      <td>duality and humorous things</td>\n",
              "      <td>trying to find someone to hang out with. i am ...</td>\n",
              "      <td>i am new to california and looking for someone...</td>\n",
              "      <td>you want to be swept off your feet!&lt;br /&gt;\\nyou...</td>\n",
              "      <td>asian, white</td>\n",
              "      <td>75.0</td>\n",
              "      <td>-1</td>\n",
              "      <td>transportation</td>\n",
              "      <td>2012-06-28-20-30</td>\n",
              "      <td>south san francisco, california</td>\n",
              "      <td>doesn&amp;rsquo;t have kids, but might want them</td>\n",
              "      <td>straight</td>\n",
              "      <td>likes dogs and likes cats</td>\n",
              "      <td>agnosticism and very serious about it</td>\n",
              "      <td>m</td>\n",
              "      <td>gemini</td>\n",
              "      <td>sometimes</td>\n",
              "      <td>english</td>\n",
              "      <td>single</td>\n",
              "    </tr>\n",
              "    <tr>\n",
              "      <th>1</th>\n",
              "      <td>35</td>\n",
              "      <td>average</td>\n",
              "      <td>mostly other</td>\n",
              "      <td>often</td>\n",
              "      <td>sometimes</td>\n",
              "      <td>working on space camp</td>\n",
              "      <td>i am a chef: this is what that means.&lt;br /&gt;\\n1...</td>\n",
              "      <td>dedicating everyday to being an unbelievable b...</td>\n",
              "      <td>being silly. having ridiculous amonts of fun w...</td>\n",
              "      <td>NaN</td>\n",
              "      <td>i am die hard christopher moore fan. i don't r...</td>\n",
              "      <td>delicious porkness in all of its glories.&lt;br /...</td>\n",
              "      <td>NaN</td>\n",
              "      <td>NaN</td>\n",
              "      <td>i am very open and will share just about anyth...</td>\n",
              "      <td>NaN</td>\n",
              "      <td>white</td>\n",
              "      <td>70.0</td>\n",
              "      <td>80000</td>\n",
              "      <td>hospitality / travel</td>\n",
              "      <td>2012-06-29-21-41</td>\n",
              "      <td>oakland, california</td>\n",
              "      <td>doesn&amp;rsquo;t have kids, but might want them</td>\n",
              "      <td>straight</td>\n",
              "      <td>likes dogs and likes cats</td>\n",
              "      <td>agnosticism but not too serious about it</td>\n",
              "      <td>m</td>\n",
              "      <td>cancer</td>\n",
              "      <td>no</td>\n",
              "      <td>english (fluently), spanish (poorly), french (...</td>\n",
              "      <td>single</td>\n",
              "    </tr>\n",
              "    <tr>\n",
              "      <th>2</th>\n",
              "      <td>38</td>\n",
              "      <td>thin</td>\n",
              "      <td>anything</td>\n",
              "      <td>socially</td>\n",
              "      <td>NaN</td>\n",
              "      <td>graduated from masters program</td>\n",
              "      <td>i'm not ashamed of much, but writing public te...</td>\n",
              "      <td>i make nerdy software for musicians, artists, ...</td>\n",
              "      <td>improvising in different contexts. alternating...</td>\n",
              "      <td>my large jaw and large glasses are the physica...</td>\n",
              "      <td>okay this is where the cultural matrix gets so...</td>\n",
              "      <td>movement&lt;br /&gt;\\nconversation&lt;br /&gt;\\ncreation&lt;b...</td>\n",
              "      <td>NaN</td>\n",
              "      <td>viewing. listening. dancing. talking. drinking...</td>\n",
              "      <td>when i was five years old, i was known as \"the...</td>\n",
              "      <td>you are bright, open, intense, silly, ironic, ...</td>\n",
              "      <td>NaN</td>\n",
              "      <td>68.0</td>\n",
              "      <td>-1</td>\n",
              "      <td>NaN</td>\n",
              "      <td>2012-06-27-09-10</td>\n",
              "      <td>san francisco, california</td>\n",
              "      <td>NaN</td>\n",
              "      <td>straight</td>\n",
              "      <td>has cats</td>\n",
              "      <td>NaN</td>\n",
              "      <td>m</td>\n",
              "      <td>pisces but it doesn&amp;rsquo;t matter</td>\n",
              "      <td>no</td>\n",
              "      <td>english, french, c++</td>\n",
              "      <td>available</td>\n",
              "    </tr>\n",
              "    <tr>\n",
              "      <th>3</th>\n",
              "      <td>23</td>\n",
              "      <td>thin</td>\n",
              "      <td>vegetarian</td>\n",
              "      <td>socially</td>\n",
              "      <td>NaN</td>\n",
              "      <td>working on college/university</td>\n",
              "      <td>i work in a library and go to school. . .</td>\n",
              "      <td>reading things written by old dead people</td>\n",
              "      <td>playing synthesizers and organizing books acco...</td>\n",
              "      <td>socially awkward but i do my best</td>\n",
              "      <td>bataille, celine, beckett. . .&lt;br /&gt;\\nlynch, j...</td>\n",
              "      <td>NaN</td>\n",
              "      <td>cats and german philosophy</td>\n",
              "      <td>NaN</td>\n",
              "      <td>NaN</td>\n",
              "      <td>you feel so inclined.</td>\n",
              "      <td>white</td>\n",
              "      <td>71.0</td>\n",
              "      <td>20000</td>\n",
              "      <td>student</td>\n",
              "      <td>2012-06-28-14-22</td>\n",
              "      <td>berkeley, california</td>\n",
              "      <td>doesn&amp;rsquo;t want kids</td>\n",
              "      <td>straight</td>\n",
              "      <td>likes cats</td>\n",
              "      <td>NaN</td>\n",
              "      <td>m</td>\n",
              "      <td>pisces</td>\n",
              "      <td>no</td>\n",
              "      <td>english, german (poorly)</td>\n",
              "      <td>single</td>\n",
              "    </tr>\n",
              "    <tr>\n",
              "      <th>4</th>\n",
              "      <td>29</td>\n",
              "      <td>athletic</td>\n",
              "      <td>NaN</td>\n",
              "      <td>socially</td>\n",
              "      <td>never</td>\n",
              "      <td>graduated from college/university</td>\n",
              "      <td>hey how's it going? currently vague on the pro...</td>\n",
              "      <td>work work work work + play</td>\n",
              "      <td>creating imagery to look at:&lt;br /&gt;\\nhttp://bag...</td>\n",
              "      <td>i smile a lot and my inquisitive nature</td>\n",
              "      <td>music: bands, rappers, musicians&lt;br /&gt;\\nat the...</td>\n",
              "      <td>NaN</td>\n",
              "      <td>NaN</td>\n",
              "      <td>NaN</td>\n",
              "      <td>NaN</td>\n",
              "      <td>NaN</td>\n",
              "      <td>asian, black, other</td>\n",
              "      <td>66.0</td>\n",
              "      <td>-1</td>\n",
              "      <td>artistic / musical / writer</td>\n",
              "      <td>2012-06-27-21-26</td>\n",
              "      <td>san francisco, california</td>\n",
              "      <td>NaN</td>\n",
              "      <td>straight</td>\n",
              "      <td>likes dogs and likes cats</td>\n",
              "      <td>NaN</td>\n",
              "      <td>m</td>\n",
              "      <td>aquarius</td>\n",
              "      <td>no</td>\n",
              "      <td>english</td>\n",
              "      <td>single</td>\n",
              "    </tr>\n",
              "    <tr>\n",
              "      <th>...</th>\n",
              "      <td>...</td>\n",
              "      <td>...</td>\n",
              "      <td>...</td>\n",
              "      <td>...</td>\n",
              "      <td>...</td>\n",
              "      <td>...</td>\n",
              "      <td>...</td>\n",
              "      <td>...</td>\n",
              "      <td>...</td>\n",
              "      <td>...</td>\n",
              "      <td>...</td>\n",
              "      <td>...</td>\n",
              "      <td>...</td>\n",
              "      <td>...</td>\n",
              "      <td>...</td>\n",
              "      <td>...</td>\n",
              "      <td>...</td>\n",
              "      <td>...</td>\n",
              "      <td>...</td>\n",
              "      <td>...</td>\n",
              "      <td>...</td>\n",
              "      <td>...</td>\n",
              "      <td>...</td>\n",
              "      <td>...</td>\n",
              "      <td>...</td>\n",
              "      <td>...</td>\n",
              "      <td>...</td>\n",
              "      <td>...</td>\n",
              "      <td>...</td>\n",
              "      <td>...</td>\n",
              "      <td>...</td>\n",
              "    </tr>\n",
              "    <tr>\n",
              "      <th>59941</th>\n",
              "      <td>59</td>\n",
              "      <td>NaN</td>\n",
              "      <td>NaN</td>\n",
              "      <td>socially</td>\n",
              "      <td>never</td>\n",
              "      <td>graduated from college/university</td>\n",
              "      <td>vibrant, expressive, caring optimist. i love b...</td>\n",
              "      <td>the happiest times have been when life came to...</td>\n",
              "      <td>i make an outstanding osso bucco. i am also ve...</td>\n",
              "      <td>i am told that people notice my smile, eyes an...</td>\n",
              "      <td>i am an avid movie watcher and follow the broa...</td>\n",
              "      <td>my family, my dog, italy, words and music!</td>\n",
              "      <td>writing my book.</td>\n",
              "      <td>running with my dog, finishing up the work wee...</td>\n",
              "      <td>i have a dream to sing at the alconquin in nyc...</td>\n",
              "      <td>you are seeking a long term connection of shar...</td>\n",
              "      <td>NaN</td>\n",
              "      <td>62.0</td>\n",
              "      <td>-1</td>\n",
              "      <td>sales / marketing / biz dev</td>\n",
              "      <td>2012-06-12-21-47</td>\n",
              "      <td>oakland, california</td>\n",
              "      <td>has kids</td>\n",
              "      <td>straight</td>\n",
              "      <td>has dogs</td>\n",
              "      <td>catholicism but not too serious about it</td>\n",
              "      <td>f</td>\n",
              "      <td>cancer and it&amp;rsquo;s fun to think about</td>\n",
              "      <td>no</td>\n",
              "      <td>english</td>\n",
              "      <td>single</td>\n",
              "    </tr>\n",
              "    <tr>\n",
              "      <th>59942</th>\n",
              "      <td>24</td>\n",
              "      <td>fit</td>\n",
              "      <td>mostly anything</td>\n",
              "      <td>often</td>\n",
              "      <td>sometimes</td>\n",
              "      <td>working on college/university</td>\n",
              "      <td>i'm nick.&lt;br /&gt;\\ni never know what to write ab...</td>\n",
              "      <td>currently finishing school for film production...</td>\n",
              "      <td>&lt;a class=\"ilink\" href=\"/interests?i=filmmaking...</td>\n",
              "      <td>dude, i don't know.</td>\n",
              "      <td>&lt;strong&gt;movies&lt;/strong&gt;:&lt;br /&gt;\\nhook (the grea...</td>\n",
              "      <td>iphone&lt;br /&gt;\\ncontact lenses&lt;br /&gt;\\nheadphones...</td>\n",
              "      <td>i do most of my thinking on the bus to/from wo...</td>\n",
              "      <td>bringin' home bacon, or drinking and shakin'!</td>\n",
              "      <td>when i was 18 i got a tattoo of waldo somewher...</td>\n",
              "      <td>meh if you made it this far you might as well.</td>\n",
              "      <td>white, other</td>\n",
              "      <td>72.0</td>\n",
              "      <td>-1</td>\n",
              "      <td>entertainment / media</td>\n",
              "      <td>2012-06-29-11-01</td>\n",
              "      <td>san francisco, california</td>\n",
              "      <td>doesn&amp;rsquo;t have kids</td>\n",
              "      <td>straight</td>\n",
              "      <td>likes dogs and likes cats</td>\n",
              "      <td>agnosticism</td>\n",
              "      <td>m</td>\n",
              "      <td>leo but it doesn&amp;rsquo;t matter</td>\n",
              "      <td>no</td>\n",
              "      <td>english (fluently)</td>\n",
              "      <td>single</td>\n",
              "    </tr>\n",
              "    <tr>\n",
              "      <th>59943</th>\n",
              "      <td>42</td>\n",
              "      <td>average</td>\n",
              "      <td>mostly anything</td>\n",
              "      <td>not at all</td>\n",
              "      <td>never</td>\n",
              "      <td>graduated from masters program</td>\n",
              "      <td>hello! i enjoy traveling, watching movies, and...</td>\n",
              "      <td>i'm a civil engineer, who enjoys helping the c...</td>\n",
              "      <td>- looking at things objectively&lt;br /&gt;\\n- getti...</td>\n",
              "      <td>i'm quiet until i get used to the environment ...</td>\n",
              "      <td>last book: \"game change\".&lt;br /&gt;\\nmovies: bourn...</td>\n",
              "      <td>- iphone&lt;br /&gt;\\n- friends and family&lt;br /&gt;\\n- ...</td>\n",
              "      <td>aside from work, how to improve my home.</td>\n",
              "      <td>out enjoying friendly conversation over dinner.</td>\n",
              "      <td>please let me think about this more.</td>\n",
              "      <td>we have similar interests.</td>\n",
              "      <td>asian</td>\n",
              "      <td>71.0</td>\n",
              "      <td>100000</td>\n",
              "      <td>construction / craftsmanship</td>\n",
              "      <td>2012-06-27-23-37</td>\n",
              "      <td>south san francisco, california</td>\n",
              "      <td>doesn&amp;rsquo;t have kids</td>\n",
              "      <td>straight</td>\n",
              "      <td>NaN</td>\n",
              "      <td>christianity but not too serious about it</td>\n",
              "      <td>m</td>\n",
              "      <td>sagittarius but it doesn&amp;rsquo;t matter</td>\n",
              "      <td>no</td>\n",
              "      <td>english (fluently)</td>\n",
              "      <td>single</td>\n",
              "    </tr>\n",
              "    <tr>\n",
              "      <th>59944</th>\n",
              "      <td>27</td>\n",
              "      <td>athletic</td>\n",
              "      <td>mostly anything</td>\n",
              "      <td>socially</td>\n",
              "      <td>often</td>\n",
              "      <td>working on college/university</td>\n",
              "      <td>\"all i have in this world are my balls and my ...</td>\n",
              "      <td>following my dreams...&lt;br /&gt;\\n\"you got a dream...</td>\n",
              "      <td>listening</td>\n",
              "      <td>it used to be the hair until i mowed it off bu...</td>\n",
              "      <td>where to begin musically: right now i listen t...</td>\n",
              "      <td>music, family, friends, a basketball, hoop, so...</td>\n",
              "      <td>what can i do to make someone chuckle....</td>\n",
              "      <td>what i would do on any other day. everydays a ...</td>\n",
              "      <td>i like walking around in other people's house ...</td>\n",
              "      <td>you are interested and interesting...</td>\n",
              "      <td>asian, black</td>\n",
              "      <td>73.0</td>\n",
              "      <td>-1</td>\n",
              "      <td>medicine / health</td>\n",
              "      <td>2012-06-23-13-01</td>\n",
              "      <td>san francisco, california</td>\n",
              "      <td>doesn&amp;rsquo;t have kids, but wants them</td>\n",
              "      <td>straight</td>\n",
              "      <td>likes dogs and likes cats</td>\n",
              "      <td>agnosticism but not too serious about it</td>\n",
              "      <td>m</td>\n",
              "      <td>leo and it&amp;rsquo;s fun to think about</td>\n",
              "      <td>trying to quit</td>\n",
              "      <td>english (fluently), spanish (poorly), chinese ...</td>\n",
              "      <td>single</td>\n",
              "    </tr>\n",
              "    <tr>\n",
              "      <th>59945</th>\n",
              "      <td>39</td>\n",
              "      <td>average</td>\n",
              "      <td>NaN</td>\n",
              "      <td>socially</td>\n",
              "      <td>NaN</td>\n",
              "      <td>graduated from masters program</td>\n",
              "      <td>is it odd that having a little \"enemy\" status ...</td>\n",
              "      <td>i work with elderly people (psychotherapy and ...</td>\n",
              "      <td>i'm a great bullshitter. i don't know what it ...</td>\n",
              "      <td>either that i am funny/sarcastic, or that i am...</td>\n",
              "      <td>i just read the help by kathryn stockett, sooo...</td>\n",
              "      <td>1. family &amp;amp; friends &amp;amp; other humans - i...</td>\n",
              "      <td>sex, myself, other people, how amazing everyth...</td>\n",
              "      <td>out at happy hour with my friends, running int...</td>\n",
              "      <td>i wish i could cry like holly hunter in broadc...</td>\n",
              "      <td>if you have a back-bone, an opinion, a sense o...</td>\n",
              "      <td>white</td>\n",
              "      <td>68.0</td>\n",
              "      <td>-1</td>\n",
              "      <td>medicine / health</td>\n",
              "      <td>2012-06-29-00-42</td>\n",
              "      <td>san francisco, california</td>\n",
              "      <td>NaN</td>\n",
              "      <td>gay</td>\n",
              "      <td>likes dogs and likes cats</td>\n",
              "      <td>catholicism and laughing about it</td>\n",
              "      <td>m</td>\n",
              "      <td>gemini and it&amp;rsquo;s fun to think about</td>\n",
              "      <td>sometimes</td>\n",
              "      <td>english</td>\n",
              "      <td>single</td>\n",
              "    </tr>\n",
              "  </tbody>\n",
              "</table>\n",
              "<p>59946 rows × 31 columns</p>\n",
              "</div>"
            ],
            "text/plain": [
              "       age  ...     status\n",
              "0       22  ...     single\n",
              "1       35  ...     single\n",
              "2       38  ...  available\n",
              "3       23  ...     single\n",
              "4       29  ...     single\n",
              "...    ...  ...        ...\n",
              "59941   59  ...     single\n",
              "59942   24  ...     single\n",
              "59943   42  ...     single\n",
              "59944   27  ...     single\n",
              "59945   39  ...     single\n",
              "\n",
              "[59946 rows x 31 columns]"
            ]
          },
          "metadata": {
            "tags": []
          },
          "execution_count": 3
        }
      ]
    },
    {
      "cell_type": "markdown",
      "metadata": {
        "id": "VEK5iDKJwKoh"
      },
      "source": [
        "# Inspect the data\r\n",
        "High level inspection for tidiness, variable type, etc."
      ]
    },
    {
      "cell_type": "code",
      "metadata": {
        "colab": {
          "base_uri": "https://localhost:8080/"
        },
        "id": "bJE8rAjZpROU",
        "outputId": "b0d9e097-c152-41f7-b18b-b71c0b962647"
      },
      "source": [
        "#@title Code: Inspect data\r\n",
        "print(profilesDF.info(verbose=True))"
      ],
      "execution_count": null,
      "outputs": [
        {
          "output_type": "stream",
          "text": [
            "<class 'pandas.core.frame.DataFrame'>\n",
            "RangeIndex: 59946 entries, 0 to 59945\n",
            "Data columns (total 31 columns):\n",
            " #   Column       Non-Null Count  Dtype  \n",
            "---  ------       --------------  -----  \n",
            " 0   age          59946 non-null  int64  \n",
            " 1   body_type    54650 non-null  object \n",
            " 2   diet         35551 non-null  object \n",
            " 3   drinks       56961 non-null  object \n",
            " 4   drugs        45866 non-null  object \n",
            " 5   education    53318 non-null  object \n",
            " 6   essay0       54458 non-null  object \n",
            " 7   essay1       52374 non-null  object \n",
            " 8   essay2       50308 non-null  object \n",
            " 9   essay3       48470 non-null  object \n",
            " 10  essay4       49409 non-null  object \n",
            " 11  essay5       49096 non-null  object \n",
            " 12  essay6       46175 non-null  object \n",
            " 13  essay7       47495 non-null  object \n",
            " 14  essay8       40721 non-null  object \n",
            " 15  essay9       47343 non-null  object \n",
            " 16  ethnicity    54266 non-null  object \n",
            " 17  height       59943 non-null  float64\n",
            " 18  income       59946 non-null  int64  \n",
            " 19  job          51748 non-null  object \n",
            " 20  last_online  59946 non-null  object \n",
            " 21  location     59946 non-null  object \n",
            " 22  offspring    24385 non-null  object \n",
            " 23  orientation  59946 non-null  object \n",
            " 24  pets         40025 non-null  object \n",
            " 25  religion     39720 non-null  object \n",
            " 26  sex          59946 non-null  object \n",
            " 27  sign         48890 non-null  object \n",
            " 28  smokes       54434 non-null  object \n",
            " 29  speaks       59896 non-null  object \n",
            " 30  status       59946 non-null  object \n",
            "dtypes: float64(1), int64(2), object(28)\n",
            "memory usage: 14.2+ MB\n",
            "None\n"
          ],
          "name": "stdout"
        }
      ]
    },
    {
      "cell_type": "code",
      "metadata": {
        "colab": {
          "base_uri": "https://localhost:8080/"
        },
        "id": "VJPHjMxByyFH",
        "outputId": "659b1720-6b26-4ac7-d9b8-1679ebb91901"
      },
      "source": [
        "#@title Code: Columns without null entries\r\n",
        "print( [c for c in profilesDF.columns if profilesDF[c].isna().sum() == 0] )"
      ],
      "execution_count": null,
      "outputs": [
        {
          "output_type": "stream",
          "text": [
            "['age', 'income', 'last_online', 'location', 'orientation', 'sex', 'status']\n"
          ],
          "name": "stdout"
        }
      ]
    },
    {
      "cell_type": "markdown",
      "metadata": {
        "id": "XE8sib0wwgrq"
      },
      "source": [
        "##Observations of data\r\n",
        "\r\n",
        "* General observations\r\n",
        "  * There are 59,946 rows in the file. Each row would appear to correspond to a user profile on the site.\r\n",
        "  * There do not appear to be duplicate entries how no unique indentifier has been provided.\r\n",
        "  * Aside from the pair (orientation/sex) the only columns that gave us any useful information about what someone is looking for in a match are found in the \"essay\" columns\r\n",
        "* Duplicates\r\n",
        "  * As no unique indentifier has been provided I do not feel that it would be useful to control for duplicates with the aim of removing them. This could be done by select a subset of columns, but we could not be sure that the resulting subset accurately represents the data.\r\n",
        "* \"Nan\" values\r\n",
        "  * There are many entries with \"NaN\" values. The columns range from \"diet\" to the various \"essay0x\" columns, and \"pets\" to name a few.\r\n",
        "  * There are in fact only 7 columns out of the 31 that do not contain null entries: ['age', 'income', 'last_online', 'location', 'orientation', 'sex', 'status']"
      ]
    },
    {
      "cell_type": "markdown",
      "metadata": {
        "id": "isuYivkOltQK"
      },
      "source": [
        "# Data Exploration\r\n",
        "Start to look at high level statistics such as mean, etc. and make some initial plot to help identify a direction for our analysis and/or answer the question that we posed ourselves in the project scope."
      ]
    },
    {
      "cell_type": "code",
      "metadata": {
        "id": "kCy6p6v-mo4T",
        "colab": {
          "base_uri": "https://localhost:8080/",
          "height": 1000
        },
        "outputId": "9e483499-0777-4b1f-f9ff-9e926591fc43"
      },
      "source": [
        "#@title Code\r\n",
        "#Print out information about a specific column in the dataframe\r\n",
        "def colInfo(df, column):\r\n",
        "  print(\"Column: \"+column)\r\n",
        "  print(df[column].unique())\r\n",
        "  print(\"Unique values:\")\r\n",
        "  tNaN = df[column].isna().sum()\r\n",
        "  total = len(df.values)\r\n",
        "  ptNaN = (tNaN / total)*100\r\n",
        "  print(f\"Number of unique values: {len(df[column].unique())}\")\r\n",
        "  print(f\"NaN entries: {tNaN} out of {total} or {ptNaN:.2f}%\")\r\n",
        "  print(\"\\n\")\r\n",
        "\r\n",
        "  return None\r\n",
        "\r\n",
        "_ = [colInfo(profilesDF, c) for c in ['diet', 'drinks', 'drugs', 'smokes', 'education', 'income']]\r\n",
        "\r\n",
        "print(\"Number of profiles per income bracket and unreported\")\r\n",
        "print(profilesDF['income'].value_counts())\r\n",
        "\r\n",
        "\r\n",
        "plt.clf()\r\n",
        "fig, ax = plt.subplots(figsize=(8,6))\r\n",
        "ax = sns.countplot(x='income', data=profilesDF)\r\n",
        "plt.ylabel(\"Number of Profiles\")\r\n",
        "plt.gcf().subplots_adjust(bottom=0.15)\r\n",
        "plt.title(\"Number of Profiles per Income Bracket\")\r\n",
        "plt.xticks(rotation=15)\r\n",
        "\r\n",
        "fig = plt.gcf()\r\n",
        "plt.draw()\r\n",
        "fig.savefig(projectFolder+'profiles_per_income_bracket.png', dpi=100, format='png')\r\n",
        "plt.show()"
      ],
      "execution_count": null,
      "outputs": [
        {
          "output_type": "stream",
          "text": [
            "Column: diet\n",
            "['strictly anything' 'mostly other' 'anything' 'vegetarian' nan\n",
            " 'mostly anything' 'mostly vegetarian' 'strictly vegan'\n",
            " 'strictly vegetarian' 'mostly vegan' 'strictly other' 'mostly halal'\n",
            " 'other' 'vegan' 'mostly kosher' 'strictly halal' 'halal'\n",
            " 'strictly kosher' 'kosher']\n",
            "Unique values:\n",
            "Number of unique values: 19\n",
            "NaN entries: 24395 out of 59946 or 40.69%\n",
            "\n",
            "\n",
            "Column: drinks\n",
            "['socially' 'often' 'not at all' 'rarely' nan 'very often' 'desperately']\n",
            "Unique values:\n",
            "Number of unique values: 7\n",
            "NaN entries: 2985 out of 59946 or 4.98%\n",
            "\n",
            "\n",
            "Column: drugs\n",
            "['never' 'sometimes' nan 'often']\n",
            "Unique values:\n",
            "Number of unique values: 4\n",
            "NaN entries: 14080 out of 59946 or 23.49%\n",
            "\n",
            "\n",
            "Column: smokes\n",
            "['sometimes' 'no' nan 'when drinking' 'yes' 'trying to quit']\n",
            "Unique values:\n",
            "Number of unique values: 6\n",
            "NaN entries: 5512 out of 59946 or 9.19%\n",
            "\n",
            "\n",
            "Column: education\n",
            "['working on college/university' 'working on space camp'\n",
            " 'graduated from masters program' 'graduated from college/university'\n",
            " 'working on two-year college' nan 'graduated from high school'\n",
            " 'working on masters program' 'graduated from space camp'\n",
            " 'college/university' 'dropped out of space camp'\n",
            " 'graduated from ph.d program' 'graduated from law school'\n",
            " 'working on ph.d program' 'two-year college'\n",
            " 'graduated from two-year college' 'working on med school'\n",
            " 'dropped out of college/university' 'space camp'\n",
            " 'graduated from med school' 'dropped out of high school'\n",
            " 'working on high school' 'masters program' 'dropped out of ph.d program'\n",
            " 'dropped out of two-year college' 'dropped out of med school'\n",
            " 'high school' 'working on law school' 'law school'\n",
            " 'dropped out of masters program' 'ph.d program'\n",
            " 'dropped out of law school' 'med school']\n",
            "Unique values:\n",
            "Number of unique values: 33\n",
            "NaN entries: 6628 out of 59946 or 11.06%\n",
            "\n",
            "\n",
            "Column: income\n",
            "[     -1   80000   20000   40000   30000   50000   60000 1000000  150000\n",
            "  100000  500000   70000  250000]\n",
            "Unique values:\n",
            "Number of unique values: 13\n",
            "NaN entries: 0 out of 59946 or 0.00%\n",
            "\n",
            "\n",
            "Number of profiles per income bracket and unreported\n",
            "-1          48442\n",
            " 20000       2952\n",
            " 100000      1621\n",
            " 80000       1111\n",
            " 30000       1048\n",
            " 40000       1005\n",
            " 50000        975\n",
            " 60000        736\n",
            " 70000        707\n",
            " 150000       631\n",
            " 1000000      521\n",
            " 250000       149\n",
            " 500000        48\n",
            "Name: income, dtype: int64\n"
          ],
          "name": "stdout"
        },
        {
          "output_type": "display_data",
          "data": {
            "text/plain": [
              "<Figure size 432x288 with 0 Axes>"
            ]
          },
          "metadata": {
            "tags": []
          }
        },
        {
          "output_type": "display_data",
          "data": {
            "image/png": "[encoded data removed]",
            "text/plain": [
              "<Figure size 576x432 with 1 Axes>"
            ]
          },
          "metadata": {
            "tags": [],
            "needs_background": "light"
          }
        }
      ]
    },
    {
      "cell_type": "markdown",
      "metadata": {
        "id": "fwLljtDDnHI-"
      },
      "source": [
        "## Observations\r\n",
        "1. 'diet' has a relatively high percentage (~40%) of NaN entries and does not seem reliable\r\n",
        "2. 'drinks', 'drugs', 'smokes', and 'education' each have lower percentage of NaN entries, about ~5%, ~23%, ~9%, and ~11%, respectively\r\n",
        "3. 'education' has a relatively high number of possible values (unique) at 33\r\n",
        "4. 'income' has no NaN entries, but many at (-1) (48,442 entries out of 59,946 total or 80.8%)\r\n",
        "  * this is essentially the equivalent of ‘no income provided’ for these rows\r\n",
        "  * given the high rate of (-1) in income this column does not seem reliable"
      ]
    },
    {
      "cell_type": "markdown",
      "metadata": {
        "id": "Q_2pqgSNcpbD"
      },
      "source": [
        "# Analysis\r\n",
        "Are users (profiles) who smoke and/or drink more likely to take drugs?"
      ]
    },
    {
      "cell_type": "code",
      "metadata": {
        "colab": {
          "base_uri": "https://localhost:8080/"
        },
        "id": "2nOn3dar0faD",
        "outputId": "bb763920-186e-44ec-e427-58ea09ec77ae"
      },
      "source": [
        "#@title Code: Prepare the data\r\n",
        "profilesDF.dropna(subset=['drugs', 'smokes', 'drinks'], inplace=True)\r\n",
        "print(\"Number of rows after dropna(): \"+str(len(profilesDF)))\r\n",
        "\r\n",
        "#Notice that I have excluded 'rarely' from the list\r\n",
        "drinksList = ['socially', 'often', 'very often', 'desperately']\r\n",
        "smokesList = ['sometimes', 'when drinking', 'yes', 'trying to quit']\r\n",
        "drugsList = ['sometimes', 'often']\r\n",
        "profilesDF['isDrugUser'] = profilesDF['drugs'].apply(lambda x: 1 if x in drugsList else 0)\r\n",
        "profilesDF['isSmoker'] = profilesDF['drugs'].apply(lambda x: 1 if x in smokesList else 0)\r\n",
        "profilesDF['isDrinker'] = profilesDF['drugs'].apply(lambda x: 1 if x in drinksList else 0)"
      ],
      "execution_count": null,
      "outputs": [
        {
          "output_type": "stream",
          "text": [
            "Number of rows after dropna(): 42495\n"
          ],
          "name": "stdout"
        }
      ]
    },
    {
      "cell_type": "code",
      "metadata": {
        "colab": {
          "base_uri": "https://localhost:8080/",
          "height": 516
        },
        "id": "ncPAsLCE0kw3",
        "outputId": "eeea0977-981f-4bea-e04b-924229341c4a"
      },
      "source": [
        "#@title Code: Plot isSmoker & isDrugUser\r\n",
        "\r\n",
        "plt.clf()\r\n",
        "fig, ax = plt.subplots(figsize=(8,6))\r\n",
        "ax = sns.countplot(x='isSmoker', data=profilesDF, hue=\"isDrugUser\")\r\n",
        "plt.ylabel(\"Number of Profiles\")\r\n",
        "plt.gcf().subplots_adjust(bottom=0.15)\r\n",
        "plt.title(\"Profiles by Probability of Smoker & Drug Use\")\r\n",
        "\r\n",
        "fig = plt.gcf()\r\n",
        "plt.draw()\r\n",
        "fig.savefig(projectFolder+'smokers_drug_users.png', dpi=100, format='png')\r\n",
        "plt.show()\r\n",
        "\r\n",
        "print(profilesDF['isSmoker'].value_counts())\r\n",
        "print(profilesDF['isDrugUser'].value_counts())"
      ],
      "execution_count": null,
      "outputs": [
        {
          "output_type": "display_data",
          "data": {
            "text/plain": [
              "<Figure size 432x288 with 0 Axes>"
            ]
          },
          "metadata": {
            "tags": []
          }
        },
        {
          "output_type": "display_data",
          "data": {
            "image/png": "[encoded data removed]",
            "text/plain": [
              "<Figure size 576x432 with 1 Axes>"
            ]
          },
          "metadata": {
            "tags": [],
            "needs_background": "light"
          }
        },
        {
          "output_type": "stream",
          "text": [
            "0    35215\n",
            "1     7280\n",
            "Name: isSmoker, dtype: int64\n",
            "0    34830\n",
            "1     7665\n",
            "Name: isDrugUser, dtype: int64\n"
          ],
          "name": "stdout"
        }
      ]
    },
    {
      "cell_type": "code",
      "metadata": {
        "colab": {
          "base_uri": "https://localhost:8080/"
        },
        "id": "dmEbZGDpW6Id",
        "outputId": "23f3da4b-5abd-4f66-9db7-a2ec87ae6ef4"
      },
      "source": [
        "#@title Code: Logistic Regression\r\n",
        "\r\n",
        "# Select and Split Data\r\n",
        "features = profilesDF[['isSmoker', 'isDrinker']]\r\n",
        "drugUser = profilesDF['isDrugUser']\r\n",
        "\r\n",
        "#Split out a subset of profiles to predict on before splitting the testing and training data\r\n",
        "trainTest_data, predict_data, trainTest_labels, predict_labels = train_test_split(features, drugUser, train_size=0.99, test_size=0.01)\r\n",
        "\r\n",
        "#training_data, test_data, training_labels, test_labels = train_test_split(features, drugUser, train_size=0.8, test_size=0.2)\r\n",
        "training_data, test_data, training_labels, test_labels = train_test_split(trainTest_data, trainTest_labels, train_size=0.8, test_size=0.2)\r\n",
        "\r\n",
        "#Normalize Data\r\n",
        "# Scale the feature data so it has mean = 0 and standard deviation = 1\r\n",
        "sso = StandardScaler()\r\n",
        "\r\n",
        "train_features = sso.fit_transform(training_data)\r\n",
        "test_features = sso.transform(test_data)\r\n",
        "\r\n",
        "# Create and train the model\r\n",
        "model = LogisticRegression()\r\n",
        "model.fit(training_data, training_labels)\r\n",
        "\r\n",
        "# Score the model on the train data\r\n",
        "trainScore = model.score(training_data, training_labels)\r\n",
        "\r\n",
        "# Score the model on the test data\r\n",
        "testScore = model.score(test_data, test_labels)\r\n",
        "\r\n",
        "# Analyze the coefficients\r\n",
        "print(list(zip(['isSmoker','isDrinker'],model.coef_[0])))"
      ],
      "execution_count": null,
      "outputs": [
        {
          "output_type": "stream",
          "text": [
            "42495\n",
            "[('isSmoker', 13.144313388293407), ('isDrinker', 10.42853507817707)]\n"
          ],
          "name": "stdout"
        }
      ]
    },
    {
      "cell_type": "code",
      "metadata": {
        "colab": {
          "base_uri": "https://localhost:8080/",
          "height": 642
        },
        "id": "dneSFCPyk4JQ",
        "outputId": "9442df6f-579f-4c3e-cc1d-88b50826898f"
      },
      "source": [
        "#@title Code: Predict with the model\r\n",
        "\r\n",
        "np.set_printoptions(formatter={'float_kind': \"{:.8f}\".format})\r\n",
        "\r\n",
        "# Scale the sample passenger features\r\n",
        "sample_profiles = sso.transform(predict_data)\r\n",
        "\r\n",
        "model.predict(sample_profiles)\r\n",
        "probabilities = model.predict_proba(sample_profiles)\r\n",
        "\r\n",
        "countHighProbLikleyUser = 0\r\n",
        "countHighProbLikleyNotUser = 0\r\n",
        "threshold = .8\r\n",
        "for prob in probabilities:\r\n",
        "  if prob[0] >= threshold: countHighProbLikleyUser += 1\r\n",
        "  if prob[1] >= threshold: countHighProbLikleyNotUser += 1\r\n",
        "\r\n",
        "print(\"***************************\")\r\n",
        "print(\"Probabilities of Drug Use\")\r\n",
        "print([\"Drug User\", \"Not Drug User\"])\r\n",
        "print(probabilities[:10])\r\n",
        "print(\"***************************\")\r\n",
        "\r\n",
        "plt.clf()\r\n",
        "fig, ax = plt.subplots(figsize=(8,6))\r\n",
        "ax = plt.bar(x=['Probably Drug User', 'Probably NOT Drug User'], height=[countHighProbLikleyUser, countHighProbLikleyNotUser])\r\n",
        "plt.ylabel(\"Number of Profiles\")\r\n",
        "plt.gcf().subplots_adjust(bottom=0.15)\r\n",
        "plt.title(\"Profiles by Probability of Drug Use\")\r\n",
        "\r\n",
        "fig = plt.gcf()\r\n",
        "plt.draw()\r\n",
        "fig.savefig(projectFolder+'users_vs_not_users.png', dpi=100, format='png')\r\n",
        "plt.show()"
      ],
      "execution_count": null,
      "outputs": [
        {
          "output_type": "stream",
          "text": [
            "***************************\n",
            "Probabilities of Drug Use\n",
            "['Drug User', 'Not Drug User']\n",
            "[[0.00000000 1.00000000]\n",
            " [0.99999918 0.00000082]\n",
            " [0.00000000 1.00000000]\n",
            " [0.99999918 0.00000082]\n",
            " [0.99999918 0.00000082]\n",
            " [0.99999918 0.00000082]\n",
            " [0.99999918 0.00000082]\n",
            " [0.00000000 1.00000000]\n",
            " [0.99999918 0.00000082]\n",
            " [0.99999918 0.00000082]]\n",
            "***************************\n"
          ],
          "name": "stdout"
        },
        {
          "output_type": "display_data",
          "data": {
            "text/plain": [
              "<Figure size 432x288 with 0 Axes>"
            ]
          },
          "metadata": {
            "tags": []
          }
        },
        {
          "output_type": "display_data",
          "data": {
            "image/png": "[encoded data removed]",
            "text/plain": [
              "<Figure size 576x432 with 1 Axes>"
            ]
          },
          "metadata": {
            "tags": [],
            "needs_background": "light"
          }
        }
      ]
    },
    {
      "cell_type": "markdown",
      "metadata": {
        "id": "BxK2-Cq-lbst"
      },
      "source": [
        "#Conclusion\r\n",
        "* I used logistic regression to test if smoking and drinking are indicators of drug use.\r\n",
        "* During the traing and then testing phase the results (coefficient) show that smoking is the dominant feature that predicts drug use.\r\n",
        "* In the probability predictions I used 80% as the threshold to predict if the profile was likley to be a drug user or not\r\n",
        "* In the prediction subset there were 425 profiles. 344 had a high probability of being drug users and 81 had a high probability of NOT being drug users.\r\n",
        "\r\n",
        "**Question:** Are users (profiles) who smoke and/or drink more likely to take drugs?\r\n",
        "\r\n",
        "**Conclusion:** Smoking and drinking are predictors of drug use with smoking being the dominant feature."
      ]
    }
  ]
}