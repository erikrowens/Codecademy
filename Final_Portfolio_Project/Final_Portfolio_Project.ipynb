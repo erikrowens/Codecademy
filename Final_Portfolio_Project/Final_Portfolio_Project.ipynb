{
  "nbformat": 4,
  "nbformat_minor": 0,
  "metadata": {
    "colab": {
      "name": "Final Portfolio Project.ipynb",
      "provenance": [],
      "collapsed_sections": [],
      "mount_file_id": "1kXlhJ_BwDMof1ouWSvt6z2MYfBj2jlZb",
      "authorship_tag": "ABX9TyOcp5FBYSTOg4Skifjv7N6X",
      "include_colab_link": true
    },
    "kernelspec": {
      "name": "python3",
      "display_name": "Python 3"
    }
  },
  "cells": [
    {
      "cell_type": "markdown",
      "metadata": {
        "id": "view-in-github",
        "colab_type": "text"
      },
      "source": [
        "<a href=\"https://colab.research.google.com/github/erikrowens/Codecademy/blob/main/Final_Portfolio_Project/Final_Portfolio_Project.ipynb\" target=\"_parent\"><img src=\"https://colab.research.google.com/assets/colab-badge.svg\" alt=\"Open In Colab\"/></a>"
      ]
    },
    {
      "cell_type": "markdown",
      "metadata": {
        "id": "OK7tJ2RwJcSX"
      },
      "source": [
        "#Final Portfolio Project\r\n",
        "\r\n",
        "**Project Objectives:**\r\n",
        "* Complete a project to add to a portfolio\r\n",
        "* Use Git version control\r\n",
        "* Use Jupyter Notebook to communicate findings\r\n",
        "* Run an end-to-end data science project\r\n",
        "* Become familiar with data science workflows\r\n",
        "\r\n",
        "**Prerequisites:**\r\n",
        "* Natural Language Processing\r\n",
        "* Supervised Machine Learning\r\n",
        "* Unsupervised Machine Learning\r\n",
        "* Deep Learning\r\n",
        "* Big Data"
      ]
    },
    {
      "cell_type": "code",
      "metadata": {
        "id": "6TfeUuJfJZaX"
      },
      "source": [
        "#@title Code: Import libraries\r\n",
        "#Required to update the path statement to import a PY file from project folder\r\n",
        "import sys\r\n",
        "import pandas as pd\r\n",
        "import numpy as np\r\n",
        "import matplotlib.pyplot as plt\r\n",
        "import seaborn as sns\r\n",
        "#from sklearn.model_selection import train_test_split\r\n",
        "#from sklearn.linear_model import LogisticRegression\r\n",
        "#from sklearn.preprocessing import StandardScaler\r\n",
        "\r\n",
        "#Set the path to the current project folder\r\n",
        "#If permanently mounting via the notebook\r\n",
        "projectFolder = './drive/My Drive/Colab Notebooks/Codecademy/Final Portfolio Project/'\r\n",
        "\r\n",
        "#Update the path statement so that we can import our PY files for this project\r\n",
        "sys.path.insert(1, projectFolder)"
      ],
      "execution_count": 1,
      "outputs": []
    },
    {
      "cell_type": "markdown",
      "metadata": {
        "id": "dGB41-L8iBOt"
      },
      "source": [
        "# Project Scope\r\n",
        "\r\n",
        "*   Goals\r\n",
        "*   Data\r\n",
        "*   Analysis\r\n",
        "\r\n"
      ]
    },
    {
      "cell_type": "code",
      "metadata": {
        "id": "PePyx-WiJ97O"
      },
      "source": [
        "#@title Code: Import Data"
      ],
      "execution_count": null,
      "outputs": []
    },
    {
      "cell_type": "code",
      "metadata": {
        "id": "0VO_-0QbKE7G"
      },
      "source": [
        "#@title Code: Inspect Data"
      ],
      "execution_count": null,
      "outputs": []
    }
  ]
}