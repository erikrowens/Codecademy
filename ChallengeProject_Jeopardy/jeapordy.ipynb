{
  "nbformat": 4,
  "nbformat_minor": 0,
  "metadata": {
    "colab": {
      "name": "jeapordy",
      "provenance": [],
      "collapsed_sections": [],
      "toc_visible": true,
      "history_visible": true,
      "authorship_tag": "ABX9TyMzrr842v0ManF6/PtGvmcg",
      "include_colab_link": true
    },
    "kernelspec": {
      "name": "python3",
      "display_name": "Python 3"
    }
  },
  "cells": [
    {
      "cell_type": "markdown",
      "metadata": {
        "id": "view-in-github",
        "colab_type": "text"
      },
      "source": [
        "<a href=\"https://colab.research.google.com/github/erikrowens/Codecademy/blob/main/ChallengeProject_Jeopardy/jeapordy.ipynb\" target=\"_parent\"><img src=\"https://colab.research.google.com/assets/colab-badge.svg\" alt=\"Open In Colab\"/></a>"
      ]
    },
    {
      "cell_type": "markdown",
      "metadata": {
        "id": "bZWjJKC-GSsu"
      },
      "source": [
        "# Hypothesis Testing Challenge Project\n",
        "https://www.codecademy.com/paths/data-science/tracks/dscp-hypothesis-testing/modules/dscp-hypothesis-testing-challenge-projects/projects/this-is-jeopardy\n",
        "\n",
        "# Tasks 1 and 2\n",
        "Import libraries and CSV data"
      ]
    },
    {
      "cell_type": "code",
      "metadata": {
        "id": "Q1W1yZs4-oRv",
        "colab": {
          "base_uri": "https://localhost:8080/"
        },
        "outputId": "3cb36358-a322-4c1d-bef9-aabea78d3236"
      },
      "source": [
        "import pandas as pd\n",
        "import numpy as np\n",
        "import matplotlib.pyplot as plt\n",
        "import re\n",
        "\n",
        "pd.set_option('display.max_colwidth', -1)\n",
        "\n",
        "df = pd.read_csv('jeopardy.csv')\n",
        "\n",
        "#rename columns by stripping whitespace\n",
        "current_columns = df.columns.tolist()\n",
        "columns = []\n",
        "for column in current_columns:\n",
        "  columns.append(column.replace(\" \", \"\").strip())\n",
        "\n",
        "df = df.rename(columns=dict(zip(current_columns, columns)))\n"
      ],
      "execution_count": null,
      "outputs": [
        {
          "output_type": "stream",
          "text": [
            "/usr/local/lib/python3.6/dist-packages/ipykernel_launcher.py:6: FutureWarning: Passing a negative integer is deprecated in version 1.0 and will not be supported in future version. Instead, use None to not limit the column width.\n",
            "  \n"
          ],
          "name": "stderr"
        }
      ]
    },
    {
      "cell_type": "markdown",
      "metadata": {
        "id": "KYjxYbmOGgXQ"
      },
      "source": [
        "# Define methods"
      ]
    },
    {
      "cell_type": "markdown",
      "metadata": {
        "id": "Ou80j9zO-3gI"
      },
      "source": [
        "# Tasks 3 and 4\n",
        "\n",
        "Note: this method is not my code as I had difficulties and copied the solution."
      ]
    },
    {
      "cell_type": "code",
      "metadata": {
        "id": "z7zKpEwA-1eW"
      },
      "source": [
        "#I COMPLETELY STRUGGLED HERE AND HAD TO LOOK AT THE SOLUTION - THIS IS NOT MY CODE\n",
        "# Filtering a dataset by a list of words\n",
        "def filter_question_data(data, words):\n",
        "  # Lowercases all words in the list of words as well as the questions. Returns true is all of the words in the list appear in the question.\n",
        "  filter = lambda x: all(word.lower() in x.lower() for word in words)\n",
        "  # Applies the labmda function to the Question column and returns the rows where the function returned True\n",
        "  return data.loc[data[\"Question\"].apply(filter)]\n"
      ],
      "execution_count": null,
      "outputs": []
    },
    {
      "cell_type": "markdown",
      "metadata": {
        "id": "cJz2X00cWnxE"
      },
      "source": [
        "#Tasks 5, 6, etc."
      ]
    },
    {
      "cell_type": "code",
      "metadata": {
        "id": "bbR1QMOdvxB_"
      },
      "source": [
        "def filter_answer_data(data, word):\n",
        "  myList = []\n",
        "  for index, row in data.iterrows():\n",
        "    if word.lower() in row['Answer'].lower():\n",
        "      if(row['Answer'] not in myList):\n",
        "        myList.append(row['Answer'])\n",
        "  \n",
        "  return myList\n",
        "\n",
        "# More advanced method for checking words in answers in that it can take a list of words\n",
        "# and returns a dataframe of {word:count}\n",
        "def get_unique_answers(data, words):\n",
        "  #The way I interpreted the requirement was simply to count the number of unique values\n",
        "  #Which could be done as follows using RETURN instead of PRINT\n",
        "  #print(data.Answer.nunique())\n",
        "\n",
        "  newDF = pd.DataFrame(index=words, columns=['Count'])\n",
        "  \n",
        "  for word in words:\n",
        "    mylist = filter_answer_data(data, word)\n",
        "    newDF.at[word, 'Count'] = len(mylist)\n",
        "  \n",
        "  return newDF\n",
        "  \n",
        "# Get the unique round names and return them in a dictionary with a count of 0 for each\n",
        "def group_by_round(rounds):\n",
        "\n",
        "  roundsDict = {}\n",
        "  for round in sorted(rounds):\n",
        "    if round not in roundsDict:\n",
        "      '''\n",
        "      create key/value pair = round/empty place holder = 0\n",
        "      this is so that we can use this method for other purposes\n",
        "      '''\n",
        "      roundsDict.update({round: 0})\n",
        "\n",
        "  return roundsDict\n",
        "\n",
        "\n",
        "# Filtering a dataset by a list of words on the column Category\n",
        "# This is a copy/paste/modify of another method\n",
        "def filter_category_data(data, words):\n",
        "  # Lowercases all words in the list of words as well as the questions. Returns true is all of the words in the list appear in the question.\n",
        "  filter = lambda x: all(word.lower() in x.lower() for word in words)\n",
        "  # Applies the labmda function to the Question column and returns the rows where the function returned True\n",
        "  return data.loc[data[\"Category\"].apply(filter)]\n",
        "\n"
      ],
      "execution_count": null,
      "outputs": []
    },
    {
      "cell_type": "markdown",
      "metadata": {
        "id": "7wu1pb2DGph7"
      },
      "source": [
        "# 'Main' body\n",
        "#Tasks 5, 6, etc."
      ]
    },
    {
      "cell_type": "code",
      "metadata": {
        "colab": {
          "base_uri": "https://localhost:8080/"
        },
        "id": "xx8ksUmr_H8m",
        "outputId": "30d29837-47c4-4361-d64d-f6beeef6ad5d"
      },
      "source": [
        "# Testing the filter function\n",
        "filtered = filter_question_data(df, [\"KING\", \"England\"])\n",
        "print(filtered)\n",
        "\n",
        "#Creat a new column NewValue which is the column value converted to Float\n",
        "#First replace None to O\n",
        "df['NewValue'] =  df['Value'].apply(lambda x: re.sub('None', '0', x))\n",
        "#Next strip out non integers - in this case we are looking for dollar signs\n",
        "df['NewValue'] =  df['Value'].apply(lambda x: re.sub(r'[\\D]*','', x))\n",
        "#Convert to float\n",
        "df['NewValue'] = pd.to_numeric(df['NewValue'])\n",
        "\n",
        "\n",
        "\n",
        "kingQuestionsFloat = filter_question_data(df, [\"KING\"])\n",
        "kingQuestionsFloat_mean = np.mean(kingQuestionsFloat['NewValue'])\n",
        "\n",
        "print(\"The mean value for questions containing 'King' is $\"+str(round(kingQuestionsFloat_mean, 2)))\n",
        "\n",
        "#Advanced method - look for multiple words\n",
        "answerResults = get_unique_answers(kingQuestionsFloat, [\"Henry VIII\", \"Lear\"])\n",
        "print(answerResults)\n"
      ],
      "execution_count": null,
      "outputs": [
        {
          "output_type": "stream",
          "text": [
            "        ShowNumber  ...                        Answer\n",
            "4953    3003        ...  Philately (stamp collecting)\n",
            "6337    3517        ...  Ethelred                    \n",
            "9191    3907        ...  Henry V                     \n",
            "11710   2903        ...  James I                     \n",
            "13454   4726        ...  4                           \n",
            "...      ...        ... ..                           \n",
            "208295  4621        ...  William the Conqueror       \n",
            "208742  4863        ...  William of Orange roughy    \n",
            "213870  5856        ...  George III                  \n",
            "216021  1881        ...  Edward VII                  \n",
            "216789  5070        ...  Wessex                      \n",
            "\n",
            "[152 rows x 7 columns]\n",
            "The mean value for questions containing 'King' is $785.67\n",
            "           Count\n",
            "Henry VIII  3   \n",
            "Lear        6   \n"
          ],
          "name": "stdout"
        }
      ]
    },
    {
      "cell_type": "markdown",
      "metadata": {
        "id": "qE5kMlxa-RjH"
      },
      "source": [
        "# Task 7a\n",
        "\n",
        "Investigate the ways in which questions change over time by filtering by the date. How many questions from the 90s use the word \"Computer\" compared to questions from the 2000s?"
      ]
    },
    {
      "cell_type": "code",
      "metadata": {
        "colab": {
          "base_uri": "https://localhost:8080/"
        },
        "id": "bAj8MxgpzVFX",
        "outputId": "c59ad172-f0d1-431b-fea3-264a55f91cbc"
      },
      "source": [
        "#Check increase of occurenct of questions from the 90's to the 2000's\n",
        "nineties = df.query(\"AirDate >= '1990-01-01' and AirDate < '2000-01-01'\")\n",
        "twoThousands = df.query(\"AirDate >= '2000-01-01'\")\n",
        "\n",
        "ninetiesFilteredQuestions = filter_question_data(nineties, [\"Computer\"])\n",
        "twoThousandsFilteredQuestions = filter_question_data(twoThousands, [\"Computer\"])\n",
        "\n",
        "countNineties = ninetiesFilteredQuestions.AirDate.count()\n",
        "countTwoThousands = twoThousandsFilteredQuestions.AirDate.count()\n",
        "decadeIncrease =  round(((countTwoThousands-countNineties)/countNineties)*100, 2 )\n",
        "print(\"There were \"+str(countNineties)+\" mentions of 'Computer' in the 90's vs. \"+str(countTwoThousands)+\" in the 2000's for an increase of \"+str(decadeIncrease)+\"%.\")\n"
      ],
      "execution_count": null,
      "outputs": [
        {
          "output_type": "stream",
          "text": [
            "There were 98 mentions of 'Computer' in the 90's vs. 327 in the 2000's for an increase of 233.67%.\n"
          ],
          "name": "stdout"
        }
      ]
    },
    {
      "cell_type": "markdown",
      "metadata": {
        "id": "CAZdmXzT-V5o"
      },
      "source": [
        "# Task 7b\n",
        "\n",
        "Is there a connection between the round and the category? Are you more likely to find certain categories, like \"Literature\" in Single Jeopardy or Double Jeopardy?"
      ]
    },
    {
      "cell_type": "code",
      "metadata": {
        "colab": {
          "base_uri": "https://localhost:8080/",
          "height": 296
        },
        "id": "fXT8yCSE7IoD",
        "outputId": "b474dfcf-a5bc-47f0-ed03-ac9fdfa307db"
      },
      "source": [
        "\n",
        "literatureFilteredQuestions = filter_category_data(df, [\"Literature\"])\n",
        "\n",
        "#Create a dict with the unique rounds\n",
        "rounds = group_by_round(literatureFilteredQuestions['Round'])\n",
        "\n",
        "for roundLabel, countValue in rounds.items():\n",
        "  rounds[roundLabel] = literatureFilteredQuestions.query(\"Round == @roundLabel\").Round.count()\n",
        "\n",
        "# Sort in order of round difficulty\n",
        "keyorder = ['Jeopardy!', 'Double Jeopardy!', 'Final Jeopardy!']\n",
        "rounds = dict(sorted(rounds.items(), key=lambda i:keyorder.index(i[0])))\n",
        "\n",
        "\n",
        "#now plot the results to use for data exploration\n",
        "plt.bar(list(rounds.keys()), list(rounds.values()))\n",
        "plt.xlabel('Round')\n",
        "plt.ylabel('Count')\n",
        "plt.show()\n",
        "\n",
        "print(\"Answer: no there is no connection since the occurfences increase from the 1st round to the 2nd rounds, but then decrese in the 3rd.\")"
      ],
      "execution_count": null,
      "outputs": [
        {
          "output_type": "display_data",
          "data": {
            "image/png": "[encoded data removed]",
            "text/plain": [
              "<Figure size 432x288 with 1 Axes>"
            ]
          },
          "metadata": {
            "tags": [],
            "needs_background": "light"
          }
        },
        {
          "output_type": "stream",
          "text": [
            "Answer: no there is no connection since the occurfences increase from the 1st round to the 2nd rounds, but then decrese in the 3rd.\n"
          ],
          "name": "stdout"
        }
      ]
    },
    {
      "cell_type": "markdown",
      "metadata": {
        "id": "ThEowlABfJdx"
      },
      "source": [
        "# Task 7c\n",
        "\n",
        "Build a system to quiz yourself. Grab random questions, and use the input function to get a response from the user. Check to see if that response was right or wrong. Note that you can’t do this on the Codecademy platform — to do this, download the data, and write and run the code on your own computer!"
      ]
    },
    {
      "cell_type": "code",
      "metadata": {
        "colab": {
          "base_uri": "https://localhost:8080/"
        },
        "id": "uxvv-7cVI0jZ",
        "outputId": "60532270-1521-4d19-9d4c-ab4b8cae6161"
      },
      "source": [
        "for i in range(0,3):\n",
        "  rQuestionEntry = df.sample()\n",
        "  print(\"Question: \"+rQuestionEntry.Question.to_string(index=False).strip())\n",
        "\n",
        "  correctAnswer = rQuestionEntry.Answer.to_string(index=False).strip()\n",
        "  userAnswer = input(\"Answer: \")\n",
        "\n",
        "  print(\"You answered: \"+userAnswer)\n",
        "  if (userAnswer == correctAnswer):\n",
        "    print(\"That is correct!\")\n",
        "  else:\n",
        "    print(\"Incorrect. The correct answer is: \"+correctAnswer)"
      ],
      "execution_count": null,
      "outputs": [
        {
          "output_type": "stream",
          "text": [
            "Question: The theme of Richard Nixon's second inaugural parade, he thought he'd be in office to celebrate it\n",
            "Answer: Unknown\n",
            "You answered: Unknown\n",
            "Incorrect. The correct answer is: the Bicentennial\n",
            "Question: During the Han dynasty, over 2,000 years ago, the Chinese were out flying these\n",
            "Answer: Kites\n",
            "You answered: Kites\n",
            "That is correct!\n",
            "Question: This No. 1 U.S. bleach company was originally known as The Electro-Alkaline Company\n",
            "Answer: Clorox\n",
            "You answered: Clorox\n",
            "That is correct!\n"
          ],
          "name": "stdout"
        }
      ]
    }
  ]
}