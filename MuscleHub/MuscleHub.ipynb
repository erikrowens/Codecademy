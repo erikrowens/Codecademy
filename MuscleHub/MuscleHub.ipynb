{
  "nbformat": 4,
  "nbformat_minor": 0,
  "metadata": {
    "kernelspec": {
      "display_name": "Python 2",
      "language": "python",
      "name": "python2"
    },
    "language_info": {
      "codemirror_mode": {
        "name": "ipython",
        "version": 2
      },
      "file_extension": ".py",
      "mimetype": "text/x-python",
      "name": "python",
      "nbconvert_exporter": "python",
      "pygments_lexer": "ipython2",
      "version": "2.7.13"
    },
    "colab": {
      "name": "MuscleHub.ipynb",
      "provenance": [],
      "collapsed_sections": [],
      "include_colab_link": true
    }
  },
  "cells": [
    {
      "cell_type": "markdown",
      "metadata": {
        "id": "view-in-github",
        "colab_type": "text"
      },
      "source": [
        "<a href=\"https://colab.research.google.com/github/erikrowens/Codecademy/blob/main/MuscleHub/MuscleHub.ipynb\" target=\"_parent\"><img src=\"https://colab.research.google.com/assets/colab-badge.svg\" alt=\"Open In Colab\"/></a>"
      ]
    },
    {
      "cell_type": "markdown",
      "metadata": {
        "id": "mimFPkVYRmTq"
      },
      "source": [
        "# Capstone Project 1: MuscleHub AB Test"
      ]
    },
    {
      "cell_type": "markdown",
      "metadata": {
        "id": "c4Pfm-qkRmTs"
      },
      "source": [
        "## Step 1: Get started with SQL"
      ]
    },
    {
      "cell_type": "markdown",
      "metadata": {
        "id": "szsJwCAgRmTt"
      },
      "source": [
        "Like most businesses, Janet keeps her data in a SQL database.  Normally, you'd download the data from her database to a csv file, and then load it into a Jupyter Notebook using Pandas.\n",
        "\n",
        "For this project, you'll have to access SQL in a slightly different way.  You'll be using a special Codecademy library that lets you type SQL queries directly into this Jupyter notebook.  You'll have pass each SQL query as an argument to a function called `sql_query`.  Each query will return a Pandas DataFrame.  Here's an example:"
      ]
    },
    {
      "cell_type": "code",
      "metadata": {
        "collapsed": true,
        "id": "fS4FlpaPRmTt"
      },
      "source": [
        "# This import only needs to happen once, at the beginning of the notebook\n",
        "from codecademySQL import sql_query"
      ],
      "execution_count": null,
      "outputs": []
    },
    {
      "cell_type": "code",
      "metadata": {
        "id": "E_0pXiDuRmTu",
        "colab": {
          "base_uri": "https://localhost:8080/",
          "height": 199
        },
        "outputId": "9d2e935c-b299-4f18-8f13-57f4acb5a221"
      },
      "source": [
        "# Here's an example of a query that just displays some data\n",
        "sql_query('''\n",
        "SELECT *\n",
        "FROM visits\n",
        "LIMIT 5\n",
        "''')"
      ],
      "execution_count": null,
      "outputs": [
        {
          "output_type": "execute_result",
          "data": {
            "text/plain": [
              "   index first_name last_name                          email  gender  \\\n",
              "0      0      Karen   Manning        Karen.Manning@gmail.com  female   \n",
              "1      1    Annette     Boone               AB9982@gmail.com  female   \n",
              "2      2   Salvador   Merritt  SalvadorMerritt12@outlook.com    male   \n",
              "3      3     Martha   Maxwell       Martha.Maxwell@gmail.com  female   \n",
              "4      4      Andre     Mayer         AndreMayer90@gmail.com    male   \n",
              "\n",
              "  visit_date  \n",
              "0     5-1-17  \n",
              "1     5-1-17  \n",
              "2     5-1-17  \n",
              "3     5-1-17  \n",
              "4     5-1-17  "
            ],
            "text/html": [
              "<div>\n",
              "<style scoped>\n",
              "    .dataframe tbody tr th:only-of-type {\n",
              "        vertical-align: middle;\n",
              "    }\n",
              "\n",
              "    .dataframe tbody tr th {\n",
              "        vertical-align: top;\n",
              "    }\n",
              "\n",
              "    .dataframe thead th {\n",
              "        text-align: right;\n",
              "    }\n",
              "</style>\n",
              "<table border=\"1\" class=\"dataframe\">\n",
              "  <thead>\n",
              "    <tr style=\"text-align: right;\">\n",
              "      <th></th>\n",
              "      <th>index</th>\n",
              "      <th>first_name</th>\n",
              "      <th>last_name</th>\n",
              "      <th>email</th>\n",
              "      <th>gender</th>\n",
              "      <th>visit_date</th>\n",
              "    </tr>\n",
              "  </thead>\n",
              "  <tbody>\n",
              "    <tr>\n",
              "      <th>0</th>\n",
              "      <td>0</td>\n",
              "      <td>Karen</td>\n",
              "      <td>Manning</td>\n",
              "      <td>Karen.Manning@gmail.com</td>\n",
              "      <td>female</td>\n",
              "      <td>5-1-17</td>\n",
              "    </tr>\n",
              "    <tr>\n",
              "      <th>1</th>\n",
              "      <td>1</td>\n",
              "      <td>Annette</td>\n",
              "      <td>Boone</td>\n",
              "      <td>AB9982@gmail.com</td>\n",
              "      <td>female</td>\n",
              "      <td>5-1-17</td>\n",
              "    </tr>\n",
              "    <tr>\n",
              "      <th>2</th>\n",
              "      <td>2</td>\n",
              "      <td>Salvador</td>\n",
              "      <td>Merritt</td>\n",
              "      <td>SalvadorMerritt12@outlook.com</td>\n",
              "      <td>male</td>\n",
              "      <td>5-1-17</td>\n",
              "    </tr>\n",
              "    <tr>\n",
              "      <th>3</th>\n",
              "      <td>3</td>\n",
              "      <td>Martha</td>\n",
              "      <td>Maxwell</td>\n",
              "      <td>Martha.Maxwell@gmail.com</td>\n",
              "      <td>female</td>\n",
              "      <td>5-1-17</td>\n",
              "    </tr>\n",
              "    <tr>\n",
              "      <th>4</th>\n",
              "      <td>4</td>\n",
              "      <td>Andre</td>\n",
              "      <td>Mayer</td>\n",
              "      <td>AndreMayer90@gmail.com</td>\n",
              "      <td>male</td>\n",
              "      <td>5-1-17</td>\n",
              "    </tr>\n",
              "  </tbody>\n",
              "</table>\n",
              "</div>"
            ]
          },
          "metadata": {
            "tags": []
          },
          "execution_count": 2
        }
      ]
    },
    {
      "cell_type": "code",
      "metadata": {
        "id": "4oNWzWnzRmTu"
      },
      "source": [
        "# Here's an example where we save the data to a DataFrame\n",
        "df = sql_query('''\n",
        "SELECT *\n",
        "FROM applications\n",
        "LIMIT 5\n",
        "''')"
      ],
      "execution_count": null,
      "outputs": []
    },
    {
      "cell_type": "markdown",
      "metadata": {
        "id": "sV-1lbYCRmTu"
      },
      "source": [
        "## Step 2: Get your dataset"
      ]
    },
    {
      "cell_type": "markdown",
      "metadata": {
        "id": "uSbEB81ERmTv"
      },
      "source": [
        "Let's get started!\n",
        "\n",
        "Janet of MuscleHub has a SQLite database, which contains several tables that will be helpful to you in this investigation:\n",
        "- `visits` contains information about potential gym customers who have visited MuscleHub\n",
        "- `fitness_tests` contains information about potential customers in \"Group A\", who were given a fitness test\n",
        "- `applications` contains information about any potential customers (both \"Group A\" and \"Group B\") who filled out an application.  Not everyone in `visits` will have filled out an application.\n",
        "- `purchases` contains information about customers who purchased a membership to MuscleHub.\n",
        "\n",
        "Use the space below to examine each table."
      ]
    },
    {
      "cell_type": "code",
      "metadata": {
        "collapsed": true,
        "id": "yxkSIGIqRmTv",
        "colab": {
          "base_uri": "https://localhost:8080/",
          "height": 199
        },
        "outputId": "3f2c2998-e04c-4459-831c-5fcc734bcd87"
      },
      "source": [
        "# Examine visits here\r\n",
        "sql_query('''\r\n",
        "SELECT *\r\n",
        "FROM visits\r\n",
        "LIMIT 5\r\n",
        "''')"
      ],
      "execution_count": null,
      "outputs": [
        {
          "output_type": "execute_result",
          "data": {
            "text/plain": [
              "   index first_name last_name                          email  gender  \\\n",
              "0      0      Karen   Manning        Karen.Manning@gmail.com  female   \n",
              "1      1    Annette     Boone               AB9982@gmail.com  female   \n",
              "2      2   Salvador   Merritt  SalvadorMerritt12@outlook.com    male   \n",
              "3      3     Martha   Maxwell       Martha.Maxwell@gmail.com  female   \n",
              "4      4      Andre     Mayer         AndreMayer90@gmail.com    male   \n",
              "\n",
              "  visit_date  \n",
              "0     5-1-17  \n",
              "1     5-1-17  \n",
              "2     5-1-17  \n",
              "3     5-1-17  \n",
              "4     5-1-17  "
            ],
            "text/html": [
              "<div>\n",
              "<style scoped>\n",
              "    .dataframe tbody tr th:only-of-type {\n",
              "        vertical-align: middle;\n",
              "    }\n",
              "\n",
              "    .dataframe tbody tr th {\n",
              "        vertical-align: top;\n",
              "    }\n",
              "\n",
              "    .dataframe thead th {\n",
              "        text-align: right;\n",
              "    }\n",
              "</style>\n",
              "<table border=\"1\" class=\"dataframe\">\n",
              "  <thead>\n",
              "    <tr style=\"text-align: right;\">\n",
              "      <th></th>\n",
              "      <th>index</th>\n",
              "      <th>first_name</th>\n",
              "      <th>last_name</th>\n",
              "      <th>email</th>\n",
              "      <th>gender</th>\n",
              "      <th>visit_date</th>\n",
              "    </tr>\n",
              "  </thead>\n",
              "  <tbody>\n",
              "    <tr>\n",
              "      <th>0</th>\n",
              "      <td>0</td>\n",
              "      <td>Karen</td>\n",
              "      <td>Manning</td>\n",
              "      <td>Karen.Manning@gmail.com</td>\n",
              "      <td>female</td>\n",
              "      <td>5-1-17</td>\n",
              "    </tr>\n",
              "    <tr>\n",
              "      <th>1</th>\n",
              "      <td>1</td>\n",
              "      <td>Annette</td>\n",
              "      <td>Boone</td>\n",
              "      <td>AB9982@gmail.com</td>\n",
              "      <td>female</td>\n",
              "      <td>5-1-17</td>\n",
              "    </tr>\n",
              "    <tr>\n",
              "      <th>2</th>\n",
              "      <td>2</td>\n",
              "      <td>Salvador</td>\n",
              "      <td>Merritt</td>\n",
              "      <td>SalvadorMerritt12@outlook.com</td>\n",
              "      <td>male</td>\n",
              "      <td>5-1-17</td>\n",
              "    </tr>\n",
              "    <tr>\n",
              "      <th>3</th>\n",
              "      <td>3</td>\n",
              "      <td>Martha</td>\n",
              "      <td>Maxwell</td>\n",
              "      <td>Martha.Maxwell@gmail.com</td>\n",
              "      <td>female</td>\n",
              "      <td>5-1-17</td>\n",
              "    </tr>\n",
              "    <tr>\n",
              "      <th>4</th>\n",
              "      <td>4</td>\n",
              "      <td>Andre</td>\n",
              "      <td>Mayer</td>\n",
              "      <td>AndreMayer90@gmail.com</td>\n",
              "      <td>male</td>\n",
              "      <td>5-1-17</td>\n",
              "    </tr>\n",
              "  </tbody>\n",
              "</table>\n",
              "</div>"
            ]
          },
          "metadata": {
            "tags": []
          },
          "execution_count": 4
        }
      ]
    },
    {
      "cell_type": "code",
      "metadata": {
        "collapsed": true,
        "id": "yD6Xr1I0RmTv",
        "colab": {
          "base_uri": "https://localhost:8080/",
          "height": 199
        },
        "outputId": "088bb1b2-7de9-4707-d11d-0d8e2d6a7ef5"
      },
      "source": [
        "# Examine fitness_tests here\r\n",
        "sql_query('''\r\n",
        "SELECT *\r\n",
        "FROM fitness_tests\r\n",
        "LIMIT 5\r\n",
        "''')"
      ],
      "execution_count": null,
      "outputs": [
        {
          "output_type": "execute_result",
          "data": {
            "text/plain": [
              "   index first_name last_name                   email  gender  \\\n",
              "0      0        Kim    Walter   KimWalter58@gmail.com  female   \n",
              "1      1        Tom   Webster        TW3857@gmail.com    male   \n",
              "2      2     Marcus     Bauer  Marcus.Bauer@gmail.com    male   \n",
              "3      3    Roberta      Best      RB6305@hotmail.com  female   \n",
              "4      4     Carrie   Francis      CF1896@hotmail.com  female   \n",
              "\n",
              "  fitness_test_date  \n",
              "0        2017-07-03  \n",
              "1        2017-07-02  \n",
              "2        2017-07-01  \n",
              "3        2017-07-02  \n",
              "4        2017-07-05  "
            ],
            "text/html": [
              "<div>\n",
              "<style scoped>\n",
              "    .dataframe tbody tr th:only-of-type {\n",
              "        vertical-align: middle;\n",
              "    }\n",
              "\n",
              "    .dataframe tbody tr th {\n",
              "        vertical-align: top;\n",
              "    }\n",
              "\n",
              "    .dataframe thead th {\n",
              "        text-align: right;\n",
              "    }\n",
              "</style>\n",
              "<table border=\"1\" class=\"dataframe\">\n",
              "  <thead>\n",
              "    <tr style=\"text-align: right;\">\n",
              "      <th></th>\n",
              "      <th>index</th>\n",
              "      <th>first_name</th>\n",
              "      <th>last_name</th>\n",
              "      <th>email</th>\n",
              "      <th>gender</th>\n",
              "      <th>fitness_test_date</th>\n",
              "    </tr>\n",
              "  </thead>\n",
              "  <tbody>\n",
              "    <tr>\n",
              "      <th>0</th>\n",
              "      <td>0</td>\n",
              "      <td>Kim</td>\n",
              "      <td>Walter</td>\n",
              "      <td>KimWalter58@gmail.com</td>\n",
              "      <td>female</td>\n",
              "      <td>2017-07-03</td>\n",
              "    </tr>\n",
              "    <tr>\n",
              "      <th>1</th>\n",
              "      <td>1</td>\n",
              "      <td>Tom</td>\n",
              "      <td>Webster</td>\n",
              "      <td>TW3857@gmail.com</td>\n",
              "      <td>male</td>\n",
              "      <td>2017-07-02</td>\n",
              "    </tr>\n",
              "    <tr>\n",
              "      <th>2</th>\n",
              "      <td>2</td>\n",
              "      <td>Marcus</td>\n",
              "      <td>Bauer</td>\n",
              "      <td>Marcus.Bauer@gmail.com</td>\n",
              "      <td>male</td>\n",
              "      <td>2017-07-01</td>\n",
              "    </tr>\n",
              "    <tr>\n",
              "      <th>3</th>\n",
              "      <td>3</td>\n",
              "      <td>Roberta</td>\n",
              "      <td>Best</td>\n",
              "      <td>RB6305@hotmail.com</td>\n",
              "      <td>female</td>\n",
              "      <td>2017-07-02</td>\n",
              "    </tr>\n",
              "    <tr>\n",
              "      <th>4</th>\n",
              "      <td>4</td>\n",
              "      <td>Carrie</td>\n",
              "      <td>Francis</td>\n",
              "      <td>CF1896@hotmail.com</td>\n",
              "      <td>female</td>\n",
              "      <td>2017-07-05</td>\n",
              "    </tr>\n",
              "  </tbody>\n",
              "</table>\n",
              "</div>"
            ]
          },
          "metadata": {
            "tags": []
          },
          "execution_count": 5
        }
      ]
    },
    {
      "cell_type": "code",
      "metadata": {
        "collapsed": true,
        "id": "9PdKecO8RmTv",
        "colab": {
          "base_uri": "https://localhost:8080/",
          "height": 199
        },
        "outputId": "25d5cc01-c024-4947-98c9-282d7f5940e5"
      },
      "source": [
        "# Examine applications here\r\n",
        "sql_query('''\r\n",
        "SELECT *\r\n",
        "FROM applications\r\n",
        "LIMIT 5\r\n",
        "''')"
      ],
      "execution_count": null,
      "outputs": [
        {
          "output_type": "execute_result",
          "data": {
            "text/plain": [
              "   index first_name last_name                    email  gender  \\\n",
              "0      0        Roy    Abbott    RoyAbbott32@gmail.com    male   \n",
              "1      1      Agnes   Acevedo  AgnesAcevedo1@gmail.com  female   \n",
              "2      2    Roberta   Acevedo         RA8063@gmail.com  female   \n",
              "3      3     Darren    Acosta  DAcosta1996@hotmail.com    male   \n",
              "4      4     Vernon    Acosta    VAcosta1975@gmail.com    male   \n",
              "\n",
              "  application_date  \n",
              "0       2017-08-12  \n",
              "1       2017-09-29  \n",
              "2       2017-09-15  \n",
              "3       2017-07-26  \n",
              "4       2017-07-14  "
            ],
            "text/html": [
              "<div>\n",
              "<style scoped>\n",
              "    .dataframe tbody tr th:only-of-type {\n",
              "        vertical-align: middle;\n",
              "    }\n",
              "\n",
              "    .dataframe tbody tr th {\n",
              "        vertical-align: top;\n",
              "    }\n",
              "\n",
              "    .dataframe thead th {\n",
              "        text-align: right;\n",
              "    }\n",
              "</style>\n",
              "<table border=\"1\" class=\"dataframe\">\n",
              "  <thead>\n",
              "    <tr style=\"text-align: right;\">\n",
              "      <th></th>\n",
              "      <th>index</th>\n",
              "      <th>first_name</th>\n",
              "      <th>last_name</th>\n",
              "      <th>email</th>\n",
              "      <th>gender</th>\n",
              "      <th>application_date</th>\n",
              "    </tr>\n",
              "  </thead>\n",
              "  <tbody>\n",
              "    <tr>\n",
              "      <th>0</th>\n",
              "      <td>0</td>\n",
              "      <td>Roy</td>\n",
              "      <td>Abbott</td>\n",
              "      <td>RoyAbbott32@gmail.com</td>\n",
              "      <td>male</td>\n",
              "      <td>2017-08-12</td>\n",
              "    </tr>\n",
              "    <tr>\n",
              "      <th>1</th>\n",
              "      <td>1</td>\n",
              "      <td>Agnes</td>\n",
              "      <td>Acevedo</td>\n",
              "      <td>AgnesAcevedo1@gmail.com</td>\n",
              "      <td>female</td>\n",
              "      <td>2017-09-29</td>\n",
              "    </tr>\n",
              "    <tr>\n",
              "      <th>2</th>\n",
              "      <td>2</td>\n",
              "      <td>Roberta</td>\n",
              "      <td>Acevedo</td>\n",
              "      <td>RA8063@gmail.com</td>\n",
              "      <td>female</td>\n",
              "      <td>2017-09-15</td>\n",
              "    </tr>\n",
              "    <tr>\n",
              "      <th>3</th>\n",
              "      <td>3</td>\n",
              "      <td>Darren</td>\n",
              "      <td>Acosta</td>\n",
              "      <td>DAcosta1996@hotmail.com</td>\n",
              "      <td>male</td>\n",
              "      <td>2017-07-26</td>\n",
              "    </tr>\n",
              "    <tr>\n",
              "      <th>4</th>\n",
              "      <td>4</td>\n",
              "      <td>Vernon</td>\n",
              "      <td>Acosta</td>\n",
              "      <td>VAcosta1975@gmail.com</td>\n",
              "      <td>male</td>\n",
              "      <td>2017-07-14</td>\n",
              "    </tr>\n",
              "  </tbody>\n",
              "</table>\n",
              "</div>"
            ]
          },
          "metadata": {
            "tags": []
          },
          "execution_count": 6
        }
      ]
    },
    {
      "cell_type": "code",
      "metadata": {
        "collapsed": true,
        "id": "Z_oY2aslRmTw",
        "colab": {
          "base_uri": "https://localhost:8080/",
          "height": 199
        },
        "outputId": "bfba99bc-9071-4294-98ca-5f9f52b6dac6"
      },
      "source": [
        "# Examine purchases here\r\n",
        "sql_query('''\r\n",
        "SELECT *\r\n",
        "FROM purchases\r\n",
        "LIMIT 5\r\n",
        "''')"
      ],
      "execution_count": null,
      "outputs": [
        {
          "output_type": "execute_result",
          "data": {
            "text/plain": [
              "   index first_name last_name                    email  gender purchase_date\n",
              "0      0        Roy    Abbott    RoyAbbott32@gmail.com    male    2017-08-18\n",
              "1      1    Roberta   Acevedo         RA8063@gmail.com  female    2017-09-16\n",
              "2      2     Vernon    Acosta    VAcosta1975@gmail.com    male    2017-07-20\n",
              "3      3     Darren    Acosta  DAcosta1996@hotmail.com    male    2017-07-27\n",
              "4      4       Dawn    Adkins    Dawn.Adkins@gmail.com  female    2017-08-24"
            ],
            "text/html": [
              "<div>\n",
              "<style scoped>\n",
              "    .dataframe tbody tr th:only-of-type {\n",
              "        vertical-align: middle;\n",
              "    }\n",
              "\n",
              "    .dataframe tbody tr th {\n",
              "        vertical-align: top;\n",
              "    }\n",
              "\n",
              "    .dataframe thead th {\n",
              "        text-align: right;\n",
              "    }\n",
              "</style>\n",
              "<table border=\"1\" class=\"dataframe\">\n",
              "  <thead>\n",
              "    <tr style=\"text-align: right;\">\n",
              "      <th></th>\n",
              "      <th>index</th>\n",
              "      <th>first_name</th>\n",
              "      <th>last_name</th>\n",
              "      <th>email</th>\n",
              "      <th>gender</th>\n",
              "      <th>purchase_date</th>\n",
              "    </tr>\n",
              "  </thead>\n",
              "  <tbody>\n",
              "    <tr>\n",
              "      <th>0</th>\n",
              "      <td>0</td>\n",
              "      <td>Roy</td>\n",
              "      <td>Abbott</td>\n",
              "      <td>RoyAbbott32@gmail.com</td>\n",
              "      <td>male</td>\n",
              "      <td>2017-08-18</td>\n",
              "    </tr>\n",
              "    <tr>\n",
              "      <th>1</th>\n",
              "      <td>1</td>\n",
              "      <td>Roberta</td>\n",
              "      <td>Acevedo</td>\n",
              "      <td>RA8063@gmail.com</td>\n",
              "      <td>female</td>\n",
              "      <td>2017-09-16</td>\n",
              "    </tr>\n",
              "    <tr>\n",
              "      <th>2</th>\n",
              "      <td>2</td>\n",
              "      <td>Vernon</td>\n",
              "      <td>Acosta</td>\n",
              "      <td>VAcosta1975@gmail.com</td>\n",
              "      <td>male</td>\n",
              "      <td>2017-07-20</td>\n",
              "    </tr>\n",
              "    <tr>\n",
              "      <th>3</th>\n",
              "      <td>3</td>\n",
              "      <td>Darren</td>\n",
              "      <td>Acosta</td>\n",
              "      <td>DAcosta1996@hotmail.com</td>\n",
              "      <td>male</td>\n",
              "      <td>2017-07-27</td>\n",
              "    </tr>\n",
              "    <tr>\n",
              "      <th>4</th>\n",
              "      <td>4</td>\n",
              "      <td>Dawn</td>\n",
              "      <td>Adkins</td>\n",
              "      <td>Dawn.Adkins@gmail.com</td>\n",
              "      <td>female</td>\n",
              "      <td>2017-08-24</td>\n",
              "    </tr>\n",
              "  </tbody>\n",
              "</table>\n",
              "</div>"
            ]
          },
          "metadata": {
            "tags": []
          },
          "execution_count": 7
        }
      ]
    },
    {
      "cell_type": "markdown",
      "metadata": {
        "id": "82b6Yc1oRmTw"
      },
      "source": [
        "We'd like to download a giant DataFrame containing all of this data.  You'll need to write a query that does the following things:\n",
        "\n",
        "1. Not all visits in  `visits` occurred during the A/B test.  You'll only want to pull data where `visit_date` is on or after `7-1-17`.\n",
        "\n",
        "2. You'll want to perform a series of `LEFT JOIN` commands to combine the four tables that we care about.  You'll need to perform the joins on `first_name`, `last_name`, and `email`.  Pull the following columns:\n",
        "\n",
        "\n",
        "- `visits.first_name`\n",
        "- `visits.last_name`\n",
        "- `visits.gender`\n",
        "- `visits.email`\n",
        "- `visits.visit_date`\n",
        "- `fitness_tests.fitness_test_date`\n",
        "- `applications.application_date`\n",
        "- `purchases.purchase_date`\n",
        "\n",
        "Save the result of this query to a variable called `df`.\n",
        "\n",
        "Hint: your result should have 5004 rows.  Does it?"
      ]
    },
    {
      "cell_type": "code",
      "metadata": {
        "id": "pm5Fin_gRmTw",
        "colab": {
          "base_uri": "https://localhost:8080/"
        },
        "outputId": "ea9c4fea-054a-4cc9-c04a-5d0fc23921d0"
      },
      "source": [
        "df = sql_query('''\r\n",
        "SELECT v.first_name, v.last_name, v.gender, v.email, v.visit_date\r\n",
        ", ft.fitness_test_date, a.application_date, p.purchase_date\r\n",
        "FROM visits as v\r\n",
        "LEFT JOIN fitness_tests AS ft ON v.first_name = ft.first_name AND v.last_name = ft.last_name AND v.email = ft.email\r\n",
        "LEFT JOIN applications AS a ON v.first_name = a.first_name AND v.last_name = a.last_name AND v.email = a.email\r\n",
        "LEFT JOIN purchases AS p ON v.first_name = p.first_name AND v.last_name = p.last_name AND v.email = p.email\r\n",
        "WHERE v.visit_date >= \"7-1-17\"\r\n",
        "''')\r\n",
        "\r\n",
        "df.info()\r\n",
        "print(df.head())"
      ],
      "execution_count": null,
      "outputs": [
        {
          "output_type": "stream",
          "text": [
            "<class 'pandas.core.frame.DataFrame'>\n",
            "RangeIndex: 5004 entries, 0 to 5003\n",
            "Data columns (total 8 columns):\n",
            "first_name           5004 non-null object\n",
            "last_name            5004 non-null object\n",
            "gender               5004 non-null object\n",
            "email                5004 non-null object\n",
            "visit_date           5004 non-null object\n",
            "fitness_test_date    2504 non-null object\n",
            "application_date     575 non-null object\n",
            "purchase_date        450 non-null object\n",
            "dtypes: object(8)\n",
            "memory usage: 312.8+ KB\n",
            "  first_name last_name  gender                   email visit_date  \\\n",
            "0        Kim    Walter  female   KimWalter58@gmail.com     7-1-17   \n",
            "1        Tom   Webster    male        TW3857@gmail.com     7-1-17   \n",
            "2     Edward     Bowen    male  Edward.Bowen@gmail.com     7-1-17   \n",
            "3     Marcus     Bauer    male  Marcus.Bauer@gmail.com     7-1-17   \n",
            "4    Roberta      Best  female      RB6305@hotmail.com     7-1-17   \n",
            "\n",
            "  fitness_test_date application_date purchase_date  \n",
            "0        2017-07-03             None          None  \n",
            "1        2017-07-02             None          None  \n",
            "2              None       2017-07-04    2017-07-04  \n",
            "3        2017-07-01       2017-07-03    2017-07-05  \n",
            "4        2017-07-02             None          None  \n"
          ],
          "name": "stdout"
        }
      ]
    },
    {
      "cell_type": "markdown",
      "metadata": {
        "id": "qfvJTez-RmTw"
      },
      "source": [
        "## Step 3: Investigate the A and B groups"
      ]
    },
    {
      "cell_type": "markdown",
      "metadata": {
        "id": "jL5-S6NHRmTw"
      },
      "source": [
        "We have some data to work with! Import the following modules so that we can start doing analysis:\n",
        "- `import pandas as pd`\n",
        "- `from matplotlib import pyplot as plt`"
      ]
    },
    {
      "cell_type": "code",
      "metadata": {
        "collapsed": true,
        "id": "mAT_dbj6RmTx"
      },
      "source": [
        "import pandas as pd\r\n",
        "from matplotlib import pyplot as plt"
      ],
      "execution_count": null,
      "outputs": []
    },
    {
      "cell_type": "markdown",
      "metadata": {
        "id": "d0-pd5gfRmTx"
      },
      "source": [
        "We're going to add some columns to `df` to help us with our analysis.\n",
        "\n",
        "Start by adding a column called `ab_test_group`.  It should be `A` if `fitness_test_date` is not `None`, and `B` if `fitness_test_date` is `None`."
      ]
    },
    {
      "cell_type": "code",
      "metadata": {
        "id": "NgpPYXseRmTx",
        "colab": {
          "base_uri": "https://localhost:8080/"
        },
        "outputId": "e31dc0eb-3a70-4221-895f-76e640f09f8e"
      },
      "source": [
        "df['ab_test_group'] = df.fitness_test_date.apply(lambda x:'A' if pd.notnull(x) else 'B')\r\n",
        "#I really need to make more use of lambda functions and master pandas dataframes, I started with a for loop on df.iteritems()\r\n",
        "print(df.head(10))"
      ],
      "execution_count": null,
      "outputs": [
        {
          "output_type": "stream",
          "text": [
            "  first_name last_name  gender                       email visit_date  \\\n",
            "0        Kim    Walter  female       KimWalter58@gmail.com     7-1-17   \n",
            "1        Tom   Webster    male            TW3857@gmail.com     7-1-17   \n",
            "2     Edward     Bowen    male      Edward.Bowen@gmail.com     7-1-17   \n",
            "3     Marcus     Bauer    male      Marcus.Bauer@gmail.com     7-1-17   \n",
            "4    Roberta      Best  female          RB6305@hotmail.com     7-1-17   \n",
            "5     Joseph     Foley    male     JosephFoley81@gmail.com     7-1-17   \n",
            "6     Carrie   Francis  female          CF1896@hotmail.com     7-1-17   \n",
            "7     Sharon   William  female  Sharon.William@outlook.com     7-1-17   \n",
            "8     Teresa     Yates  female        TYates1988@gmail.com     7-1-17   \n",
            "9   Salvador  Cardenas    male     SCardenas1980@gmail.com     7-1-17   \n",
            "\n",
            "  fitness_test_date application_date purchase_date ab_test_group  \n",
            "0        2017-07-03             None          None             A  \n",
            "1        2017-07-02             None          None             A  \n",
            "2              None       2017-07-04    2017-07-04             B  \n",
            "3        2017-07-01       2017-07-03    2017-07-05             A  \n",
            "4        2017-07-02             None          None             A  \n",
            "5              None             None          None             B  \n",
            "6        2017-07-05             None          None             A  \n",
            "7              None             None          None             B  \n",
            "8        2017-07-02             None          None             A  \n",
            "9        2017-07-07       2017-07-06          None             A  \n"
          ],
          "name": "stdout"
        }
      ]
    },
    {
      "cell_type": "markdown",
      "metadata": {
        "id": "MzFygyjWRmTx"
      },
      "source": [
        "Let's do a quick sanity check that Janet split her visitors such that about half are in A and half are in B.\n",
        "\n",
        "Start by using `groupby` to count how many users are in each `ab_test_group`.  Save the results to `ab_counts`."
      ]
    },
    {
      "cell_type": "code",
      "metadata": {
        "id": "BNzw6u5RRmTx",
        "colab": {
          "base_uri": "https://localhost:8080/"
        },
        "outputId": "93ce7e8f-3e5b-4acf-dee0-a840839bb561"
      },
      "source": [
        "groupedDF = df.groupby('ab_test_group').email.count().reset_index()\r\n",
        "print(groupedDF.head())"
      ],
      "execution_count": null,
      "outputs": [
        {
          "output_type": "stream",
          "text": [
            "  ab_test_group  email\n",
            "0             A   2504\n",
            "1             B   2500\n"
          ],
          "name": "stdout"
        }
      ]
    },
    {
      "cell_type": "markdown",
      "metadata": {
        "id": "ksNMB6fXRmTx"
      },
      "source": [
        "We'll want to include this information in our presentation.  Let's create a pie cart using `plt.pie`.  Make sure to include:\n",
        "- Use `plt.axis('equal')` so that your pie chart looks nice\n",
        "- Add a legend labeling `A` and `B`\n",
        "- Use `autopct` to label the percentage of each group\n",
        "- Save your figure as `ab_test_pie_chart.png`"
      ]
    },
    {
      "cell_type": "code",
      "metadata": {
        "id": "I4BCrEsZRmTy",
        "colab": {
          "base_uri": "https://localhost:8080/",
          "height": 269
        },
        "outputId": "e7fc902b-7c3d-477a-b4b8-398d64bcce7f"
      },
      "source": [
        "fig = plt.subplot()\r\n",
        "plt.clf()\r\n",
        "plt.pie(groupedDF['email'], labels = groupedDF['ab_test_group'], autopct='%.2f')\r\n",
        "plt.title(\"Number of Users per Test Group\")\r\n",
        "plt.legend()\r\n",
        "plt.axis('equal')\r\n",
        "\r\n",
        "fig = plt.gcf()\r\n",
        "plt.draw()\r\n",
        "fig.savefig('ab_test_pie_chart.png', format='png')\r\n",
        "plt.show()"
      ],
      "execution_count": null,
      "outputs": [
        {
          "output_type": "display_data",
          "data": {
            "image/png": "[encoded data removed]",
            "text/plain": [
              "<Figure size 432x288 with 1 Axes>"
            ]
          },
          "metadata": {
            "tags": []
          }
        }
      ]
    },
    {
      "cell_type": "markdown",
      "metadata": {
        "id": "RNnNtQ3XRmTy"
      },
      "source": [
        "## Step 4: Who picks up an application?"
      ]
    },
    {
      "cell_type": "markdown",
      "metadata": {
        "id": "XCR_QahoRmTy"
      },
      "source": [
        "Recall that the sign-up process for MuscleHub has several steps:\n",
        "1. Take a fitness test with a personal trainer (only Group A)\n",
        "2. Fill out an application for the gym\n",
        "3. Send in their payment for their first month's membership\n",
        "\n",
        "Let's examine how many people make it to Step 2, filling out an application.\n",
        "\n",
        "Start by creating a new column in `df` called `is_application` which is `Application` if `application_date` is not `None` and `No Application`, otherwise."
      ]
    },
    {
      "cell_type": "code",
      "metadata": {
        "collapsed": true,
        "id": "4Y7lIhEzRmTy",
        "colab": {
          "base_uri": "https://localhost:8080/"
        },
        "outputId": "5733070c-8f05-4f21-b727-8d2bdf7c4359"
      },
      "source": [
        "df['is_application'] = df.application_date.apply(lambda x:'Application' if pd.notnull(x) else 'No Application')\r\n",
        "print(df.head(10))"
      ],
      "execution_count": null,
      "outputs": [
        {
          "output_type": "stream",
          "text": [
            "  first_name last_name  gender                       email visit_date  \\\n",
            "0        Kim    Walter  female       KimWalter58@gmail.com     7-1-17   \n",
            "1        Tom   Webster    male            TW3857@gmail.com     7-1-17   \n",
            "2     Edward     Bowen    male      Edward.Bowen@gmail.com     7-1-17   \n",
            "3     Marcus     Bauer    male      Marcus.Bauer@gmail.com     7-1-17   \n",
            "4    Roberta      Best  female          RB6305@hotmail.com     7-1-17   \n",
            "5     Joseph     Foley    male     JosephFoley81@gmail.com     7-1-17   \n",
            "6     Carrie   Francis  female          CF1896@hotmail.com     7-1-17   \n",
            "7     Sharon   William  female  Sharon.William@outlook.com     7-1-17   \n",
            "8     Teresa     Yates  female        TYates1988@gmail.com     7-1-17   \n",
            "9   Salvador  Cardenas    male     SCardenas1980@gmail.com     7-1-17   \n",
            "\n",
            "  fitness_test_date application_date purchase_date ab_test_group  \\\n",
            "0        2017-07-03             None          None             A   \n",
            "1        2017-07-02             None          None             A   \n",
            "2              None       2017-07-04    2017-07-04             B   \n",
            "3        2017-07-01       2017-07-03    2017-07-05             A   \n",
            "4        2017-07-02             None          None             A   \n",
            "5              None             None          None             B   \n",
            "6        2017-07-05             None          None             A   \n",
            "7              None             None          None             B   \n",
            "8        2017-07-02             None          None             A   \n",
            "9        2017-07-07       2017-07-06          None             A   \n",
            "\n",
            "   is_application  \n",
            "0  No Application  \n",
            "1  No Application  \n",
            "2     Application  \n",
            "3     Application  \n",
            "4  No Application  \n",
            "5  No Application  \n",
            "6  No Application  \n",
            "7  No Application  \n",
            "8  No Application  \n",
            "9     Application  \n"
          ],
          "name": "stdout"
        }
      ]
    },
    {
      "cell_type": "markdown",
      "metadata": {
        "id": "IIQk7pciRmTy"
      },
      "source": [
        "Now, using `groupby`, count how many people from Group A and Group B either do or don't pick up an application.  You'll want to group by `ab_test_group` and `is_application`.  Save this new DataFrame as `app_counts`"
      ]
    },
    {
      "cell_type": "code",
      "metadata": {
        "id": "RGFJ6izqRmTy",
        "colab": {
          "base_uri": "https://localhost:8080/",
          "height": 169
        },
        "outputId": "39da1367-0566-493a-a951-c481dd6207ab"
      },
      "source": [
        "app_counts = df.groupby(['ab_test_group', 'is_application']).email.count().reset_index()\r\n",
        "app_counts"
      ],
      "execution_count": null,
      "outputs": [
        {
          "output_type": "execute_result",
          "data": {
            "text/plain": [
              "  ab_test_group  is_application  email\n",
              "0             A     Application    250\n",
              "1             A  No Application   2254\n",
              "2             B     Application    325\n",
              "3             B  No Application   2175"
            ],
            "text/html": [
              "<div>\n",
              "<style scoped>\n",
              "    .dataframe tbody tr th:only-of-type {\n",
              "        vertical-align: middle;\n",
              "    }\n",
              "\n",
              "    .dataframe tbody tr th {\n",
              "        vertical-align: top;\n",
              "    }\n",
              "\n",
              "    .dataframe thead th {\n",
              "        text-align: right;\n",
              "    }\n",
              "</style>\n",
              "<table border=\"1\" class=\"dataframe\">\n",
              "  <thead>\n",
              "    <tr style=\"text-align: right;\">\n",
              "      <th></th>\n",
              "      <th>ab_test_group</th>\n",
              "      <th>is_application</th>\n",
              "      <th>email</th>\n",
              "    </tr>\n",
              "  </thead>\n",
              "  <tbody>\n",
              "    <tr>\n",
              "      <th>0</th>\n",
              "      <td>A</td>\n",
              "      <td>Application</td>\n",
              "      <td>250</td>\n",
              "    </tr>\n",
              "    <tr>\n",
              "      <th>1</th>\n",
              "      <td>A</td>\n",
              "      <td>No Application</td>\n",
              "      <td>2254</td>\n",
              "    </tr>\n",
              "    <tr>\n",
              "      <th>2</th>\n",
              "      <td>B</td>\n",
              "      <td>Application</td>\n",
              "      <td>325</td>\n",
              "    </tr>\n",
              "    <tr>\n",
              "      <th>3</th>\n",
              "      <td>B</td>\n",
              "      <td>No Application</td>\n",
              "      <td>2175</td>\n",
              "    </tr>\n",
              "  </tbody>\n",
              "</table>\n",
              "</div>"
            ]
          },
          "metadata": {
            "tags": []
          },
          "execution_count": 118
        }
      ]
    },
    {
      "cell_type": "markdown",
      "metadata": {
        "id": "bc29sX0gRmTz"
      },
      "source": [
        "We're going to want to calculate the percent of people in each group who complete an application.  It's going to be much easier to do this if we pivot `app_counts` such that:\n",
        "- The `index` is `ab_test_group`\n",
        "- The `columns` are `is_application`\n",
        "Perform this pivot and save it to the variable `app_pivot`.  Remember to call `reset_index()` at the end of the pivot!"
      ]
    },
    {
      "cell_type": "code",
      "metadata": {
        "id": "i7eKOhnjRmTz",
        "colab": {
          "base_uri": "https://localhost:8080/",
          "height": 108
        },
        "outputId": "fec2c1b5-6f97-407c-fa85-dc9b3293d66d"
      },
      "source": [
        "app_pivot = app_counts.pivot(index='ab_test_group', columns='is_application', values='email').reset_index()\r\n",
        "app_pivot"
      ],
      "execution_count": null,
      "outputs": [
        {
          "output_type": "execute_result",
          "data": {
            "text/plain": [
              "is_application ab_test_group  Application  No Application\n",
              "0                          A          250            2254\n",
              "1                          B          325            2175"
            ],
            "text/html": [
              "<div>\n",
              "<style scoped>\n",
              "    .dataframe tbody tr th:only-of-type {\n",
              "        vertical-align: middle;\n",
              "    }\n",
              "\n",
              "    .dataframe tbody tr th {\n",
              "        vertical-align: top;\n",
              "    }\n",
              "\n",
              "    .dataframe thead th {\n",
              "        text-align: right;\n",
              "    }\n",
              "</style>\n",
              "<table border=\"1\" class=\"dataframe\">\n",
              "  <thead>\n",
              "    <tr style=\"text-align: right;\">\n",
              "      <th>is_application</th>\n",
              "      <th>ab_test_group</th>\n",
              "      <th>Application</th>\n",
              "      <th>No Application</th>\n",
              "    </tr>\n",
              "  </thead>\n",
              "  <tbody>\n",
              "    <tr>\n",
              "      <th>0</th>\n",
              "      <td>A</td>\n",
              "      <td>250</td>\n",
              "      <td>2254</td>\n",
              "    </tr>\n",
              "    <tr>\n",
              "      <th>1</th>\n",
              "      <td>B</td>\n",
              "      <td>325</td>\n",
              "      <td>2175</td>\n",
              "    </tr>\n",
              "  </tbody>\n",
              "</table>\n",
              "</div>"
            ]
          },
          "metadata": {
            "tags": []
          },
          "execution_count": 119
        }
      ]
    },
    {
      "cell_type": "markdown",
      "metadata": {
        "id": "tr-20lrcRmTz"
      },
      "source": [
        "Define a new column called `Total`, which is the sum of `Application` and `No Application`."
      ]
    },
    {
      "cell_type": "code",
      "metadata": {
        "collapsed": true,
        "id": "qOl3L_LARmTz",
        "colab": {
          "base_uri": "https://localhost:8080/",
          "height": 108
        },
        "outputId": "e999ebd1-0f80-46ab-c4c4-5bf48472fcd2"
      },
      "source": [
        "app_pivot['Total'] = app_pivot['Application'] + app_pivot['No Application']\r\n",
        "app_pivot"
      ],
      "execution_count": null,
      "outputs": [
        {
          "output_type": "execute_result",
          "data": {
            "text/plain": [
              "is_application ab_test_group  Application  No Application  Total\n",
              "0                          A          250            2254   2504\n",
              "1                          B          325            2175   2500"
            ],
            "text/html": [
              "<div>\n",
              "<style scoped>\n",
              "    .dataframe tbody tr th:only-of-type {\n",
              "        vertical-align: middle;\n",
              "    }\n",
              "\n",
              "    .dataframe tbody tr th {\n",
              "        vertical-align: top;\n",
              "    }\n",
              "\n",
              "    .dataframe thead th {\n",
              "        text-align: right;\n",
              "    }\n",
              "</style>\n",
              "<table border=\"1\" class=\"dataframe\">\n",
              "  <thead>\n",
              "    <tr style=\"text-align: right;\">\n",
              "      <th>is_application</th>\n",
              "      <th>ab_test_group</th>\n",
              "      <th>Application</th>\n",
              "      <th>No Application</th>\n",
              "      <th>Total</th>\n",
              "    </tr>\n",
              "  </thead>\n",
              "  <tbody>\n",
              "    <tr>\n",
              "      <th>0</th>\n",
              "      <td>A</td>\n",
              "      <td>250</td>\n",
              "      <td>2254</td>\n",
              "      <td>2504</td>\n",
              "    </tr>\n",
              "    <tr>\n",
              "      <th>1</th>\n",
              "      <td>B</td>\n",
              "      <td>325</td>\n",
              "      <td>2175</td>\n",
              "      <td>2500</td>\n",
              "    </tr>\n",
              "  </tbody>\n",
              "</table>\n",
              "</div>"
            ]
          },
          "metadata": {
            "tags": []
          },
          "execution_count": 120
        }
      ]
    },
    {
      "cell_type": "markdown",
      "metadata": {
        "id": "6I6U60-ZRmTz"
      },
      "source": [
        "Calculate another column called `Percent with Application`, which is equal to `Application` divided by `Total`."
      ]
    },
    {
      "cell_type": "code",
      "metadata": {
        "id": "3HgqXfaURmTz",
        "colab": {
          "base_uri": "https://localhost:8080/",
          "height": 108
        },
        "outputId": "eb5e9462-8aa5-44aa-edd5-ddec98ba881e"
      },
      "source": [
        "app_pivot['Percent with Application'] = app_pivot['Application'] / app_pivot['Total']\r\n",
        "app_pivot"
      ],
      "execution_count": null,
      "outputs": [
        {
          "output_type": "execute_result",
          "data": {
            "text/plain": [
              "is_application ab_test_group  Application  No Application  Total  \\\n",
              "0                          A          250            2254   2504   \n",
              "1                          B          325            2175   2500   \n",
              "\n",
              "is_application  Percent with Application  \n",
              "0                                0.09984  \n",
              "1                                0.13000  "
            ],
            "text/html": [
              "<div>\n",
              "<style scoped>\n",
              "    .dataframe tbody tr th:only-of-type {\n",
              "        vertical-align: middle;\n",
              "    }\n",
              "\n",
              "    .dataframe tbody tr th {\n",
              "        vertical-align: top;\n",
              "    }\n",
              "\n",
              "    .dataframe thead th {\n",
              "        text-align: right;\n",
              "    }\n",
              "</style>\n",
              "<table border=\"1\" class=\"dataframe\">\n",
              "  <thead>\n",
              "    <tr style=\"text-align: right;\">\n",
              "      <th>is_application</th>\n",
              "      <th>ab_test_group</th>\n",
              "      <th>Application</th>\n",
              "      <th>No Application</th>\n",
              "      <th>Total</th>\n",
              "      <th>Percent with Application</th>\n",
              "    </tr>\n",
              "  </thead>\n",
              "  <tbody>\n",
              "    <tr>\n",
              "      <th>0</th>\n",
              "      <td>A</td>\n",
              "      <td>250</td>\n",
              "      <td>2254</td>\n",
              "      <td>2504</td>\n",
              "      <td>0.09984</td>\n",
              "    </tr>\n",
              "    <tr>\n",
              "      <th>1</th>\n",
              "      <td>B</td>\n",
              "      <td>325</td>\n",
              "      <td>2175</td>\n",
              "      <td>2500</td>\n",
              "      <td>0.13000</td>\n",
              "    </tr>\n",
              "  </tbody>\n",
              "</table>\n",
              "</div>"
            ]
          },
          "metadata": {
            "tags": []
          },
          "execution_count": 121
        }
      ]
    },
    {
      "cell_type": "markdown",
      "metadata": {
        "id": "w8fggCreRmT0"
      },
      "source": [
        "It looks like more people from Group B turned in an application.  Why might that be?\n",
        "\n",
        "We need to know if this difference is statistically significant.\n",
        "\n",
        "Choose a hypothesis tests, import it from `scipy` and perform it.  Be sure to note the p-value.\n",
        "Is this result significant?"
      ]
    },
    {
      "cell_type": "code",
      "metadata": {
        "id": "0HlVYePDRmT0",
        "colab": {
          "base_uri": "https://localhost:8080/"
        },
        "outputId": "201a831a-2075-4188-f460-6772f3b2b1b2"
      },
      "source": [
        "from scipy.stats import chi2_contingency\r\n",
        "\r\n",
        "x = [[250, 2254], [325, 2175]]\r\n",
        "chi2, pval, dof, expected = chi2_contingency(x)\r\n",
        "print pval"
      ],
      "execution_count": null,
      "outputs": [
        {
          "output_type": "stream",
          "text": [
            "0.0009647827600722304\n"
          ],
          "name": "stdout"
        }
      ]
    },
    {
      "cell_type": "markdown",
      "metadata": {
        "id": "XsNCtYnjRmT0"
      },
      "source": [
        "## Step 4: Who purchases a membership?"
      ]
    },
    {
      "cell_type": "markdown",
      "metadata": {
        "id": "-pXIpG30RmT0"
      },
      "source": [
        "Of those who picked up an application, how many purchased a membership?\n",
        "\n",
        "Let's begin by adding a column to `df` called `is_member` which is `Member` if `purchase_date` is not `None`, and `Not Member` otherwise."
      ]
    },
    {
      "cell_type": "code",
      "metadata": {
        "collapsed": true,
        "id": "XCKRZrVCRmT0",
        "colab": {
          "base_uri": "https://localhost:8080/"
        },
        "outputId": "02af7703-8ca6-42b7-a0bd-0858e2f17cc8"
      },
      "source": [
        "df['is_member'] = df.purchase_date.apply(lambda x:'Member' if pd.notnull(x) else 'Not Member')\r\n",
        "print(df.head(10))"
      ],
      "execution_count": null,
      "outputs": [
        {
          "output_type": "stream",
          "text": [
            "  first_name last_name  gender                       email visit_date  \\\n",
            "0        Kim    Walter  female       KimWalter58@gmail.com     7-1-17   \n",
            "1        Tom   Webster    male            TW3857@gmail.com     7-1-17   \n",
            "2     Edward     Bowen    male      Edward.Bowen@gmail.com     7-1-17   \n",
            "3     Marcus     Bauer    male      Marcus.Bauer@gmail.com     7-1-17   \n",
            "4    Roberta      Best  female          RB6305@hotmail.com     7-1-17   \n",
            "5     Joseph     Foley    male     JosephFoley81@gmail.com     7-1-17   \n",
            "6     Carrie   Francis  female          CF1896@hotmail.com     7-1-17   \n",
            "7     Sharon   William  female  Sharon.William@outlook.com     7-1-17   \n",
            "8     Teresa     Yates  female        TYates1988@gmail.com     7-1-17   \n",
            "9   Salvador  Cardenas    male     SCardenas1980@gmail.com     7-1-17   \n",
            "\n",
            "  fitness_test_date application_date purchase_date ab_test_group  \\\n",
            "0        2017-07-03             None          None             A   \n",
            "1        2017-07-02             None          None             A   \n",
            "2              None       2017-07-04    2017-07-04             B   \n",
            "3        2017-07-01       2017-07-03    2017-07-05             A   \n",
            "4        2017-07-02             None          None             A   \n",
            "5              None             None          None             B   \n",
            "6        2017-07-05             None          None             A   \n",
            "7              None             None          None             B   \n",
            "8        2017-07-02             None          None             A   \n",
            "9        2017-07-07       2017-07-06          None             A   \n",
            "\n",
            "   is_application   is_member  \n",
            "0  No Application  Not Member  \n",
            "1  No Application  Not Member  \n",
            "2     Application      Member  \n",
            "3     Application      Member  \n",
            "4  No Application  Not Member  \n",
            "5  No Application  Not Member  \n",
            "6  No Application  Not Member  \n",
            "7  No Application  Not Member  \n",
            "8  No Application  Not Member  \n",
            "9     Application  Not Member  \n"
          ],
          "name": "stdout"
        }
      ]
    },
    {
      "cell_type": "markdown",
      "metadata": {
        "id": "Dnj_SmruRmT0"
      },
      "source": [
        "Now, let's create a DataFrame called `just_apps` the contains only people who picked up an application."
      ]
    },
    {
      "cell_type": "code",
      "metadata": {
        "collapsed": true,
        "id": "WIP8qeTBRmT0",
        "colab": {
          "base_uri": "https://localhost:8080/"
        },
        "outputId": "3bb5285b-c00d-499c-9a57-0f01a2b50535"
      },
      "source": [
        "just_apps = df[df.is_application == \"Application\"]\r\n",
        "print(just_apps.head())"
      ],
      "execution_count": null,
      "outputs": [
        {
          "output_type": "stream",
          "text": [
            "   first_name last_name  gender                    email visit_date  \\\n",
            "2      Edward     Bowen    male   Edward.Bowen@gmail.com     7-1-17   \n",
            "3      Marcus     Bauer    male   Marcus.Bauer@gmail.com     7-1-17   \n",
            "9    Salvador  Cardenas    male  SCardenas1980@gmail.com     7-1-17   \n",
            "11    Valerie     Munoz  female     VMunoz1998@gmail.com     7-1-17   \n",
            "35    Michael     Burks    male         MB9820@gmail.com     7-1-17   \n",
            "\n",
            "   fitness_test_date application_date purchase_date ab_test_group  \\\n",
            "2               None       2017-07-04    2017-07-04             B   \n",
            "3         2017-07-01       2017-07-03    2017-07-05             A   \n",
            "9         2017-07-07       2017-07-06          None             A   \n",
            "11        2017-07-03       2017-07-05    2017-07-06             A   \n",
            "35              None       2017-07-07    2017-07-13             B   \n",
            "\n",
            "   is_application   is_member  \n",
            "2     Application      Member  \n",
            "3     Application      Member  \n",
            "9     Application  Not Member  \n",
            "11    Application      Member  \n",
            "35    Application      Member  \n"
          ],
          "name": "stdout"
        }
      ]
    },
    {
      "cell_type": "markdown",
      "metadata": {
        "id": "h8TbZ4QDRmT1"
      },
      "source": [
        "Great! Now, let's do a `groupby` to find out how many people in `just_apps` are and aren't members from each group.  Follow the same process that we did in Step 4, including pivoting the data.  You should end up with a DataFrame that looks like this:\n",
        "\n",
        "|is_member|ab_test_group|Member|Not Member|Total|Percent Purchase|\n",
        "|-|-|-|-|-|-|\n",
        "|0|A|?|?|?|?|\n",
        "|1|B|?|?|?|?|\n",
        "\n",
        "Save your final DataFrame as `member_pivot`."
      ]
    },
    {
      "cell_type": "code",
      "metadata": {
        "id": "yQfoafYGRmT1",
        "colab": {
          "base_uri": "https://localhost:8080/",
          "height": 196
        },
        "outputId": "077728d1-edf7-4ebf-f348-72f073f5b707"
      },
      "source": [
        "just_appsDF = just_apps.groupby(['ab_test_group', 'is_member']).email.count().reset_index()\r\n",
        "print(just_appsDF.head())\r\n",
        "\r\n",
        "member_pivot = just_appsDF.pivot(index='ab_test_group', columns='is_member', values='email').reset_index()\r\n",
        "member_pivot['Total'] = member_pivot['Member'] + member_pivot['Not Member']\r\n",
        "member_pivot['Percent Purchase'] = member_pivot['Member'] / member_pivot['Total']\r\n",
        "member_pivot"
      ],
      "execution_count": null,
      "outputs": [
        {
          "output_type": "stream",
          "text": [
            "  ab_test_group   is_member  email\n",
            "0             A      Member    200\n",
            "1             A  Not Member     50\n",
            "2             B      Member    250\n",
            "3             B  Not Member     75\n"
          ],
          "name": "stdout"
        },
        {
          "output_type": "execute_result",
          "data": {
            "text/plain": [
              "is_member ab_test_group  Member  Not Member  Total  Percent Purchase\n",
              "0                     A     200          50    250          0.800000\n",
              "1                     B     250          75    325          0.769231"
            ],
            "text/html": [
              "<div>\n",
              "<style scoped>\n",
              "    .dataframe tbody tr th:only-of-type {\n",
              "        vertical-align: middle;\n",
              "    }\n",
              "\n",
              "    .dataframe tbody tr th {\n",
              "        vertical-align: top;\n",
              "    }\n",
              "\n",
              "    .dataframe thead th {\n",
              "        text-align: right;\n",
              "    }\n",
              "</style>\n",
              "<table border=\"1\" class=\"dataframe\">\n",
              "  <thead>\n",
              "    <tr style=\"text-align: right;\">\n",
              "      <th>is_member</th>\n",
              "      <th>ab_test_group</th>\n",
              "      <th>Member</th>\n",
              "      <th>Not Member</th>\n",
              "      <th>Total</th>\n",
              "      <th>Percent Purchase</th>\n",
              "    </tr>\n",
              "  </thead>\n",
              "  <tbody>\n",
              "    <tr>\n",
              "      <th>0</th>\n",
              "      <td>A</td>\n",
              "      <td>200</td>\n",
              "      <td>50</td>\n",
              "      <td>250</td>\n",
              "      <td>0.800000</td>\n",
              "    </tr>\n",
              "    <tr>\n",
              "      <th>1</th>\n",
              "      <td>B</td>\n",
              "      <td>250</td>\n",
              "      <td>75</td>\n",
              "      <td>325</td>\n",
              "      <td>0.769231</td>\n",
              "    </tr>\n",
              "  </tbody>\n",
              "</table>\n",
              "</div>"
            ]
          },
          "metadata": {
            "tags": []
          },
          "execution_count": 103
        }
      ]
    },
    {
      "cell_type": "markdown",
      "metadata": {
        "id": "oMU19uQnRmT1"
      },
      "source": [
        "It looks like people who took the fitness test were more likely to purchase a membership **if** they picked up an application.  Why might that be?\n",
        "\n",
        "Just like before, we need to know if this difference is statistically significant.  Choose a hypothesis tests, import it from `scipy` and perform it.  Be sure to note the p-value.\n",
        "Is this result significant?"
      ]
    },
    {
      "cell_type": "code",
      "metadata": {
        "id": "_4n5wnM-RmT1",
        "colab": {
          "base_uri": "https://localhost:8080/"
        },
        "outputId": "1af1f6cc-98c5-414a-81d9-42c67590cc51"
      },
      "source": [
        "x = [[200, 50], [250, 75]]\r\n",
        "chi2, pval, dof, expected = chi2_contingency(x)\r\n",
        "print pval"
      ],
      "execution_count": null,
      "outputs": [
        {
          "output_type": "stream",
          "text": [
            "0.43258646051083327\n"
          ],
          "name": "stdout"
        }
      ]
    },
    {
      "cell_type": "markdown",
      "metadata": {
        "id": "yJ6kgqEDRmT2"
      },
      "source": [
        "Previously, we looked at what percent of people **who picked up applications** purchased memberships.  What we really care about is what percentage of **all visitors** purchased memberships.  Return to `df` and do a `groupby` to find out how many people in `df` are and aren't members from each group.  Follow the same process that we did in Step 4, including pivoting the data.  You should end up with a DataFrame that looks like this:\n",
        "\n",
        "|is_member|ab_test_group|Member|Not Member|Total|Percent Purchase|\n",
        "|-|-|-|-|-|-|\n",
        "|0|A|?|?|?|?|\n",
        "|1|B|?|?|?|?|\n",
        "\n",
        "Save your final DataFrame as `final_member_pivot`."
      ]
    },
    {
      "cell_type": "code",
      "metadata": {
        "id": "U22_SFPFRmT2",
        "colab": {
          "base_uri": "https://localhost:8080/",
          "height": 108
        },
        "outputId": "68040837-b74c-455c-8878-87b8c7e1f02b"
      },
      "source": [
        "final_memberDF = df.groupby(['ab_test_group', 'is_member']).email.count().reset_index()\r\n",
        "final_memberDF\r\n",
        "final_member_pivot = final_memberDF.pivot(index='ab_test_group', columns='is_member', values='email').reset_index()\r\n",
        "final_member_pivot['Total'] = final_member_pivot['Member'] + final_member_pivot['Not Member']\r\n",
        "final_member_pivot['Percent Purchase'] = final_member_pivot['Member'] / final_member_pivot['Total']\r\n",
        "final_member_pivot"
      ],
      "execution_count": null,
      "outputs": [
        {
          "output_type": "execute_result",
          "data": {
            "text/plain": [
              "is_member ab_test_group  Member  Not Member  Total  Percent Purchase\n",
              "0                     A     200        2304   2504          0.079872\n",
              "1                     B     250        2250   2500          0.100000"
            ],
            "text/html": [
              "<div>\n",
              "<style scoped>\n",
              "    .dataframe tbody tr th:only-of-type {\n",
              "        vertical-align: middle;\n",
              "    }\n",
              "\n",
              "    .dataframe tbody tr th {\n",
              "        vertical-align: top;\n",
              "    }\n",
              "\n",
              "    .dataframe thead th {\n",
              "        text-align: right;\n",
              "    }\n",
              "</style>\n",
              "<table border=\"1\" class=\"dataframe\">\n",
              "  <thead>\n",
              "    <tr style=\"text-align: right;\">\n",
              "      <th>is_member</th>\n",
              "      <th>ab_test_group</th>\n",
              "      <th>Member</th>\n",
              "      <th>Not Member</th>\n",
              "      <th>Total</th>\n",
              "      <th>Percent Purchase</th>\n",
              "    </tr>\n",
              "  </thead>\n",
              "  <tbody>\n",
              "    <tr>\n",
              "      <th>0</th>\n",
              "      <td>A</td>\n",
              "      <td>200</td>\n",
              "      <td>2304</td>\n",
              "      <td>2504</td>\n",
              "      <td>0.079872</td>\n",
              "    </tr>\n",
              "    <tr>\n",
              "      <th>1</th>\n",
              "      <td>B</td>\n",
              "      <td>250</td>\n",
              "      <td>2250</td>\n",
              "      <td>2500</td>\n",
              "      <td>0.100000</td>\n",
              "    </tr>\n",
              "  </tbody>\n",
              "</table>\n",
              "</div>"
            ]
          },
          "metadata": {
            "tags": []
          },
          "execution_count": 115
        }
      ]
    },
    {
      "cell_type": "markdown",
      "metadata": {
        "id": "z5nZpAoERmT2"
      },
      "source": [
        "Previously, when we only considered people who had **already picked up an application**, we saw that there was no significant difference in membership between Group A and Group B.\n",
        "\n",
        "Now, when we consider all people who **visit MuscleHub**, we see that there might be a significant different in memberships between Group A and Group B.  Perform a significance test and check."
      ]
    },
    {
      "cell_type": "code",
      "metadata": {
        "id": "xTowRFB6RmT2",
        "colab": {
          "base_uri": "https://localhost:8080/"
        },
        "outputId": "2a8f33a1-497c-418e-f016-f33f2ad86e37"
      },
      "source": [
        "x = [[200, 2304], [250, 2250]]\r\n",
        "chi2, pval, dof, expected = chi2_contingency(x)\r\n",
        "print pval"
      ],
      "execution_count": null,
      "outputs": [
        {
          "output_type": "stream",
          "text": [
            "0.014724114645783203\n"
          ],
          "name": "stdout"
        }
      ]
    },
    {
      "cell_type": "markdown",
      "metadata": {
        "id": "NDz_yl8yRmT2"
      },
      "source": [
        "## Step 5: Summarize the acquisition funel with a chart"
      ]
    },
    {
      "cell_type": "markdown",
      "metadata": {
        "id": "ZzXb5cu9RmT2"
      },
      "source": [
        "We'd like to make a bar chart for Janet that shows the difference between Group A (people who were given the fitness test) and Group B (people who were not given the fitness test) at each state of the process:\n",
        "- Percent of visitors who apply\n",
        "- Percent of applicants who purchase a membership\n",
        "- Percent of visitors who purchase a membership\n",
        "\n",
        "Create one plot for **each** of the three sets of percentages that you calculated in `app_pivot`, `member_pivot` and `final_member_pivot`.  Each plot should:\n",
        "- Label the two bars as `Fitness Test` and `No Fitness Test`\n",
        "- Make sure that the y-axis ticks are expressed as percents (i.e., `5%`)\n",
        "- Have a title"
      ]
    },
    {
      "cell_type": "code",
      "metadata": {
        "id": "Y7QMXkuaRmT3",
        "colab": {
          "base_uri": "https://localhost:8080/",
          "height": 281
        },
        "outputId": "fc2cb3ec-e871-481a-fa52-4ac017be71ba"
      },
      "source": [
        "import math\r\n",
        "\r\n",
        "plt.clf()\r\n",
        "\r\n",
        "ax = plt.subplot()\r\n",
        "plt.bar(range(len(app_pivot.ab_test_group)), app_pivot['Percent with Application'].values)\r\n",
        "ax.set_xticks(range(len(app_pivot)))\r\n",
        "ax.set_xticklabels(['Group A - w/Test', 'Group B - w/out Test'])\r\n",
        "maxRange = max(app_pivot['Percent with Application'].values)*100\r\n",
        "step = 5\r\n",
        "upperBound = int(math.ceil(maxRange/step)+1)\r\n",
        "yRange = range(0, upperBound*step, step)\r\n",
        "\r\n",
        "ax.set_yticks( [float(y)/100 for y in yRange ] )\r\n",
        "ax.set_yticklabels( [str(y)+\"%\" for y in yRange ] )\r\n",
        "\r\n",
        "plt.title(\"Percentage of Applications with and without Fitness Test\")\r\n",
        "\r\n",
        "plt.show()"
      ],
      "execution_count": null,
      "outputs": [
        {
          "output_type": "display_data",
          "data": {
            "image/png": "[encoded data removed]",
            "text/plain": [
              "<Figure size 432x288 with 1 Axes>"
            ]
          },
          "metadata": {
            "tags": [],
            "needs_background": "light"
          }
        }
      ]
    },
    {
      "cell_type": "code",
      "metadata": {
        "id": "pMddh03oRmT3",
        "colab": {
          "base_uri": "https://localhost:8080/",
          "height": 281
        },
        "outputId": "384a0bbe-9ad8-49a4-e95d-874604c266b7"
      },
      "source": [
        "plt.clf()\r\n",
        "\r\n",
        "ax = plt.subplot()\r\n",
        "plt.bar(range(len(member_pivot.ab_test_group)), member_pivot['Percent Purchase'].values)\r\n",
        "ax.set_xticks(range(len(app_pivot)))\r\n",
        "ax.set_xticklabels(['Group A - w/Test', 'Group B - w/out Test'])\r\n",
        "maxRange = max(member_pivot['Percent Purchase'].values)*100\r\n",
        "step = 10\r\n",
        "upperBound = int(math.ceil(maxRange/step)+1)\r\n",
        "yRange = range(0, upperBound*step, step)\r\n",
        "\r\n",
        "ax.set_yticks( [float(y)/100 for y in yRange ] )\r\n",
        "ax.set_yticklabels( [str(y)+\"%\" for y in yRange ] )\r\n",
        "plt.title(\"Percentage of Applications who Purchase\")\r\n",
        "\r\n",
        "plt.show()"
      ],
      "execution_count": null,
      "outputs": [
        {
          "output_type": "display_data",
          "data": {
            "image/png": "[encoded data removed]",
            "text/plain": [
              "<Figure size 432x288 with 1 Axes>"
            ]
          },
          "metadata": {
            "tags": [],
            "needs_background": "light"
          }
        }
      ]
    },
    {
      "cell_type": "code",
      "metadata": {
        "id": "iCQ3WxrvRmT3",
        "colab": {
          "base_uri": "https://localhost:8080/",
          "height": 281
        },
        "outputId": "6989f7d9-e6d4-433d-ea2a-324a159d6c7e"
      },
      "source": [
        "plt.clf()\r\n",
        "\r\n",
        "ax = plt.subplot()\r\n",
        "plt.bar(range(len(final_member_pivot.ab_test_group)), final_member_pivot['Percent Purchase'].values)\r\n",
        "ax.set_xticks(range(len(app_pivot)))\r\n",
        "ax.set_xticklabels(['Group A - w/Test', 'Group B - w/out Test'])\r\n",
        "maxRange = max(final_member_pivot['Percent Purchase'].values)*100\r\n",
        "step = 2\r\n",
        "upperBound = int(math.ceil(maxRange/step)+1)\r\n",
        "yRange = range(0, upperBound*step, step)\r\n",
        "\r\n",
        "ax.set_yticks( [float(y)/100 for y in yRange ] )\r\n",
        "ax.set_yticklabels( [str(y)+\"%\" for y in yRange ] )\r\n",
        "plt.title(\"Percentage of Visitors who Purchase\")\r\n",
        "\r\n",
        "plt.show()"
      ],
      "execution_count": null,
      "outputs": [
        {
          "output_type": "display_data",
          "data": {
            "image/png": "[encoded data removed]",
            "text/plain": [
              "<Figure size 432x288 with 1 Axes>"
            ]
          },
          "metadata": {
            "tags": [],
            "needs_background": "light"
          }
        }
      ]
    }
  ]
}